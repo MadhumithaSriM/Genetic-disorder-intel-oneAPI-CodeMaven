{
 "cells": [
  {
   "cell_type": "code",
   "execution_count": 1,
   "id": "d3e98427-d398-48d5-a643-fb42f0b22936",
   "metadata": {},
   "outputs": [
    {
     "name": "stdout",
     "output_type": "stream",
     "text": [
      "Defaulting to user installation because normal site-packages is not writeable\n",
      "Requirement already satisfied: pandas in /glob/development-tools/versions/oneapi/2023.0.1/oneapi/intelpython/python3.9/lib/python3.9/site-packages (1.5.1)\n",
      "Requirement already satisfied: python-dateutil>=2.8.1 in /glob/development-tools/versions/oneapi/2023.0.1/oneapi/intelpython/python3.9/lib/python3.9/site-packages (from pandas) (2.8.2)\n",
      "Requirement already satisfied: pytz>=2020.1 in /glob/development-tools/versions/oneapi/2023.0.1/oneapi/intelpython/python3.9/lib/python3.9/site-packages (from pandas) (2022.1)\n",
      "Requirement already satisfied: numpy>=1.20.3 in /glob/development-tools/versions/oneapi/2023.0.1/oneapi/intelpython/python3.9/lib/python3.9/site-packages (from pandas) (1.22.3)\n",
      "Requirement already satisfied: six>=1.5 in /glob/development-tools/versions/oneapi/2023.0.1/oneapi/intelpython/python3.9/lib/python3.9/site-packages (from python-dateutil>=2.8.1->pandas) (1.16.0)\n",
      "Defaulting to user installation because normal site-packages is not writeable\n",
      "Requirement already satisfied: numpy in /glob/development-tools/versions/oneapi/2023.0.1/oneapi/intelpython/python3.9/lib/python3.9/site-packages (1.22.3)\n",
      "Defaulting to user installation because normal site-packages is not writeable\n",
      "Requirement already satisfied: matplotlib in /glob/development-tools/versions/oneapi/2023.0.1/oneapi/intelpython/python3.9/lib/python3.9/site-packages (3.6.3)\n",
      "Requirement already satisfied: cycler>=0.10 in /glob/development-tools/versions/oneapi/2023.0.1/oneapi/intelpython/python3.9/lib/python3.9/site-packages (from matplotlib) (0.11.0)\n",
      "Requirement already satisfied: pillow>=6.2.0 in /glob/development-tools/versions/oneapi/2023.0.1/oneapi/intelpython/python3.9/lib/python3.9/site-packages (from matplotlib) (9.4.0)\n",
      "Requirement already satisfied: python-dateutil>=2.7 in /glob/development-tools/versions/oneapi/2023.0.1/oneapi/intelpython/python3.9/lib/python3.9/site-packages (from matplotlib) (2.8.2)\n",
      "Requirement already satisfied: contourpy>=1.0.1 in /glob/development-tools/versions/oneapi/2023.0.1/oneapi/intelpython/python3.9/lib/python3.9/site-packages (from matplotlib) (1.0.7)\n",
      "Requirement already satisfied: packaging>=20.0 in /glob/development-tools/versions/oneapi/2023.0.1/oneapi/intelpython/python3.9/lib/python3.9/site-packages (from matplotlib) (21.3)\n",
      "Requirement already satisfied: numpy>=1.19 in /glob/development-tools/versions/oneapi/2023.0.1/oneapi/intelpython/python3.9/lib/python3.9/site-packages (from matplotlib) (1.22.3)\n",
      "Requirement already satisfied: pyparsing>=2.2.1 in /glob/development-tools/versions/oneapi/2023.0.1/oneapi/intelpython/python3.9/lib/python3.9/site-packages (from matplotlib) (3.0.9)\n",
      "Requirement already satisfied: fonttools>=4.22.0 in /glob/development-tools/versions/oneapi/2023.0.1/oneapi/intelpython/python3.9/lib/python3.9/site-packages (from matplotlib) (4.38.0)\n",
      "Requirement already satisfied: kiwisolver>=1.0.1 in /glob/development-tools/versions/oneapi/2023.0.1/oneapi/intelpython/python3.9/lib/python3.9/site-packages (from matplotlib) (1.4.2)\n",
      "Requirement already satisfied: six>=1.5 in /glob/development-tools/versions/oneapi/2023.0.1/oneapi/intelpython/python3.9/lib/python3.9/site-packages (from python-dateutil>=2.7->matplotlib) (1.16.0)\n",
      "Defaulting to user installation because normal site-packages is not writeable\n",
      "Requirement already satisfied: seaborn in ./.local/lib/python3.9/site-packages (0.12.2)\n",
      "Requirement already satisfied: numpy!=1.24.0,>=1.17 in /glob/development-tools/versions/oneapi/2023.0.1/oneapi/intelpython/python3.9/lib/python3.9/site-packages (from seaborn) (1.22.3)\n",
      "Requirement already satisfied: pandas>=0.25 in /glob/development-tools/versions/oneapi/2023.0.1/oneapi/intelpython/python3.9/lib/python3.9/site-packages (from seaborn) (1.5.1)\n",
      "Requirement already satisfied: matplotlib!=3.6.1,>=3.1 in /glob/development-tools/versions/oneapi/2023.0.1/oneapi/intelpython/python3.9/lib/python3.9/site-packages (from seaborn) (3.6.3)\n",
      "Requirement already satisfied: pillow>=6.2.0 in /glob/development-tools/versions/oneapi/2023.0.1/oneapi/intelpython/python3.9/lib/python3.9/site-packages (from matplotlib!=3.6.1,>=3.1->seaborn) (9.4.0)\n",
      "Requirement already satisfied: fonttools>=4.22.0 in /glob/development-tools/versions/oneapi/2023.0.1/oneapi/intelpython/python3.9/lib/python3.9/site-packages (from matplotlib!=3.6.1,>=3.1->seaborn) (4.38.0)\n",
      "Requirement already satisfied: cycler>=0.10 in /glob/development-tools/versions/oneapi/2023.0.1/oneapi/intelpython/python3.9/lib/python3.9/site-packages (from matplotlib!=3.6.1,>=3.1->seaborn) (0.11.0)\n",
      "Requirement already satisfied: packaging>=20.0 in /glob/development-tools/versions/oneapi/2023.0.1/oneapi/intelpython/python3.9/lib/python3.9/site-packages (from matplotlib!=3.6.1,>=3.1->seaborn) (21.3)\n",
      "Requirement already satisfied: kiwisolver>=1.0.1 in /glob/development-tools/versions/oneapi/2023.0.1/oneapi/intelpython/python3.9/lib/python3.9/site-packages (from matplotlib!=3.6.1,>=3.1->seaborn) (1.4.2)\n",
      "Requirement already satisfied: contourpy>=1.0.1 in /glob/development-tools/versions/oneapi/2023.0.1/oneapi/intelpython/python3.9/lib/python3.9/site-packages (from matplotlib!=3.6.1,>=3.1->seaborn) (1.0.7)\n",
      "Requirement already satisfied: pyparsing>=2.2.1 in /glob/development-tools/versions/oneapi/2023.0.1/oneapi/intelpython/python3.9/lib/python3.9/site-packages (from matplotlib!=3.6.1,>=3.1->seaborn) (3.0.9)\n",
      "Requirement already satisfied: python-dateutil>=2.7 in /glob/development-tools/versions/oneapi/2023.0.1/oneapi/intelpython/python3.9/lib/python3.9/site-packages (from matplotlib!=3.6.1,>=3.1->seaborn) (2.8.2)\n",
      "Requirement already satisfied: pytz>=2020.1 in /glob/development-tools/versions/oneapi/2023.0.1/oneapi/intelpython/python3.9/lib/python3.9/site-packages (from pandas>=0.25->seaborn) (2022.1)\n",
      "Requirement already satisfied: six>=1.5 in /glob/development-tools/versions/oneapi/2023.0.1/oneapi/intelpython/python3.9/lib/python3.9/site-packages (from python-dateutil>=2.7->matplotlib!=3.6.1,>=3.1->seaborn) (1.16.0)\n"
     ]
    }
   ],
   "source": [
    "!pip install pandas\n",
    "!pip install numpy\n",
    "!pip install matplotlib\n",
    "!pip install seaborn"
   ]
  },
  {
   "cell_type": "code",
   "execution_count": 2,
   "id": "6863b2a4-27e1-46c5-ac9c-e9575c37f1c7",
   "metadata": {},
   "outputs": [
    {
     "name": "stdout",
     "output_type": "stream",
     "text": [
      "Defaulting to user installation because normal site-packages is not writeable\n",
      "Collecting scikit-learn-intelex\n",
      "  Downloading scikit_learn_intelex-2023.0.1-py39-none-manylinux1_x86_64.whl (83 kB)\n",
      "\u001b[2K     \u001b[90m━━━━━━━━━━━━━━━━━━━━━━━━━━━━━━━━━━━━━━━━\u001b[0m \u001b[32m83.0/83.0 kB\u001b[0m \u001b[31m3.0 MB/s\u001b[0m eta \u001b[36m0:00:00\u001b[0m\n",
      "\u001b[?25hRequirement already satisfied: scikit-learn>=0.22 in /glob/development-tools/versions/oneapi/2023.0.1/oneapi/intelpython/python3.9/lib/python3.9/site-packages (from scikit-learn-intelex) (1.1.1)\n",
      "Collecting daal4py==2023.0.1\n",
      "  Downloading daal4py-2023.0.1-py39-none-manylinux1_x86_64.whl (12.7 MB)\n",
      "\u001b[2K     \u001b[90m━━━━━━━━━━━━━━━━━━━━━━━━━━━━━━━━━━━━━━━━\u001b[0m \u001b[32m12.7/12.7 MB\u001b[0m \u001b[31m3.7 MB/s\u001b[0m eta \u001b[36m0:00:00\u001b[0m00:01\u001b[0m00:01\u001b[0m\n",
      "\u001b[?25hCollecting daal==2023.0.1\n",
      "  Downloading daal-2023.0.1-py2.py3-none-manylinux1_x86_64.whl (85.5 MB)\n",
      "\u001b[2K     \u001b[90m━━━━━━━━━━━━━━━━━━━━━━━━━━━━━━━━━━━━━━━━\u001b[0m \u001b[32m85.5/85.5 MB\u001b[0m \u001b[31m2.5 MB/s\u001b[0m eta \u001b[36m0:00:00\u001b[0m00:01\u001b[0m00:01\u001b[0m\n",
      "\u001b[?25hRequirement already satisfied: numpy>=1.15 in /glob/development-tools/versions/oneapi/2023.0.1/oneapi/intelpython/python3.9/lib/python3.9/site-packages (from daal4py==2023.0.1->scikit-learn-intelex) (1.22.3)\n",
      "Collecting tbb==2021.*\n",
      "  Downloading tbb-2021.8.0-py2.py3-none-manylinux1_x86_64.whl (4.0 MB)\n",
      "\u001b[2K     \u001b[90m━━━━━━━━━━━━━━━━━━━━━━━━━━━━━━━━━━━━━━━━\u001b[0m \u001b[32m4.0/4.0 MB\u001b[0m \u001b[31m3.7 MB/s\u001b[0m eta \u001b[36m0:00:00\u001b[0m00:01\u001b[0m00:01\u001b[0m\n",
      "\u001b[?25hRequirement already satisfied: joblib>=1.0.0 in ./.local/lib/python3.9/site-packages (from scikit-learn>=0.22->scikit-learn-intelex) (1.2.0)\n",
      "Requirement already satisfied: scipy>=1.3.2 in /glob/development-tools/versions/oneapi/2023.0.1/oneapi/intelpython/python3.9/lib/python3.9/site-packages (from scikit-learn>=0.22->scikit-learn-intelex) (1.7.3)\n",
      "Requirement already satisfied: threadpoolctl>=2.0.0 in /glob/development-tools/versions/oneapi/2023.0.1/oneapi/intelpython/python3.9/lib/python3.9/site-packages (from scikit-learn>=0.22->scikit-learn-intelex) (2.2.0)\n",
      "Installing collected packages: tbb, daal, daal4py, scikit-learn-intelex\n",
      "Successfully installed daal-2023.0.1 daal4py-2023.0.1 scikit-learn-intelex-2023.0.1 tbb-2021.8.0\n"
     ]
    }
   ],
   "source": [
    "!pip install scikit-learn-intelex"
   ]
  },
  {
   "cell_type": "code",
   "execution_count": 3,
   "id": "9b867d11-50b2-4cb5-afdb-08eda28011dc",
   "metadata": {},
   "outputs": [
    {
     "name": "stderr",
     "output_type": "stream",
     "text": [
      "Intel(R) Extension for Scikit-learn* enabled (https://github.com/intel/scikit-learn-intelex)\n"
     ]
    }
   ],
   "source": [
    "from sklearnex import patch_sklearn\n",
    "patch_sklearn()"
   ]
  },
  {
   "cell_type": "code",
   "execution_count": 4,
   "id": "b2e68597-7b6d-4196-a63b-a674cb9ad245",
   "metadata": {},
   "outputs": [
    {
     "name": "stdout",
     "output_type": "stream",
     "text": [
      "Defaulting to user installation because normal site-packages is not writeable\n",
      "Collecting dpcpp-cpp-rt\n",
      "  Downloading dpcpp_cpp_rt-2023.0.0-py2.py3-none-manylinux1_x86_64.whl (3.8 MB)\n",
      "\u001b[2K     \u001b[90m━━━━━━━━━━━━━━━━━━━━━━━━━━━━━━━━━━━━━━━━\u001b[0m \u001b[32m3.8/3.8 MB\u001b[0m \u001b[31m3.8 MB/s\u001b[0m eta \u001b[36m0:00:00\u001b[0m00:01\u001b[0m00:01\u001b[0m\n",
      "\u001b[?25hCollecting intel-cmplr-lib-rt==2023.0.0\n",
      "  Downloading intel_cmplr_lib_rt-2023.0.0-py2.py3-none-manylinux1_x86_64.whl (42.7 MB)\n",
      "\u001b[2K     \u001b[90m━━━━━━━━━━━━━━━━━━━━━━━━━━━━━━━━━━━━━━━━\u001b[0m \u001b[32m42.7/42.7 MB\u001b[0m \u001b[31m3.1 MB/s\u001b[0m eta \u001b[36m0:00:00\u001b[0m00:01\u001b[0m00:01\u001b[0m\n",
      "\u001b[?25hCollecting intel-opencl-rt==2023.0.0\n",
      "  Downloading intel_opencl_rt-2023.0.0-py2.py3-none-manylinux1_x86_64.whl (303.1 MB)\n",
      "\u001b[2K     \u001b[90m━━━━━━━━━━━━━━━━━━━━━━━━━━━━━━━━━━━━━━━\u001b[0m \u001b[32m303.1/303.1 MB\u001b[0m \u001b[31m1.7 MB/s\u001b[0m eta \u001b[36m0:00:00\u001b[0m00:01\u001b[0m00:02\u001b[0m\n",
      "\u001b[?25hCollecting intel-cmplr-lic-rt==2023.0.0\n",
      "  Downloading intel_cmplr_lic_rt-2023.0.0-py2.py3-none-manylinux1_x86_64.whl (18 kB)\n",
      "Collecting intel-openmp==2023.0.0\n",
      "  Downloading intel_openmp-2023.0.0-py2.py3-none-manylinux1_x86_64.whl (18.3 MB)\n",
      "\u001b[2K     \u001b[90m━━━━━━━━━━━━━━━━━━━━━━━━━━━━━━━━━━━━━━━━\u001b[0m \u001b[32m18.3/18.3 MB\u001b[0m \u001b[31m3.6 MB/s\u001b[0m eta \u001b[36m0:00:00\u001b[0m00:01\u001b[0m00:01\u001b[0m\n",
      "\u001b[?25hRequirement already satisfied: tbb==2021.* in ./.local/lib/python3.9/site-packages (from intel-opencl-rt==2023.0.0->dpcpp-cpp-rt) (2021.8.0)\n",
      "Installing collected packages: intel-openmp, intel-cmplr-lic-rt, intel-cmplr-lib-rt, intel-opencl-rt, dpcpp-cpp-rt\n",
      "Successfully installed dpcpp-cpp-rt-2023.0.0 intel-cmplr-lib-rt-2023.0.0 intel-cmplr-lic-rt-2023.0.0 intel-opencl-rt-2023.0.0 intel-openmp-2023.0.0\n",
      "Note: you may need to restart the kernel to use updated packages.\n"
     ]
    }
   ],
   "source": [
    "pip install dpcpp-cpp-rt"
   ]
  },
  {
   "cell_type": "code",
   "execution_count": 29,
   "id": "7e7d00ec-f62c-41da-acd1-597ce2c029b7",
   "metadata": {},
   "outputs": [
    {
     "name": "stdout",
     "output_type": "stream",
     "text": [
      "Defaulting to user installation because normal site-packages is not writeable\n",
      "Requirement already satisfied: dataprep in ./.local/lib/python3.9/site-packages (0.4.5)\n",
      "Requirement already satisfied: by in ./.local/lib/python3.9/site-packages (0.0.4)\n",
      "Requirement already satisfied: rapidfuzz<3.0.0,>=2.1.2 in ./.local/lib/python3.9/site-packages (from dataprep) (2.13.7)\n",
      "Requirement already satisfied: jsonpath-ng<2.0,>=1.5 in ./.local/lib/python3.9/site-packages (from dataprep) (1.5.3)\n",
      "Requirement already satisfied: flask_cors<4.0.0,>=3.0.10 in ./.local/lib/python3.9/site-packages (from dataprep) (3.0.10)\n",
      "Requirement already satisfied: jinja2<3.1,>=3.0 in ./.local/lib/python3.9/site-packages (from dataprep) (3.0.3)\n",
      "Requirement already satisfied: pydantic<2.0,>=1.6 in ./.local/lib/python3.9/site-packages (from dataprep) (1.10.6)\n",
      "Requirement already satisfied: dask[array,dataframe,delayed]>=2022.3.0 in ./.local/lib/python3.9/site-packages (from dataprep) (2023.3.1)\n",
      "Requirement already satisfied: numpy<2.0,>=1.21 in /glob/development-tools/versions/oneapi/2023.0.1/oneapi/intelpython/python3.9/lib/python3.9/site-packages (from dataprep) (1.22.3)\n",
      "Requirement already satisfied: tqdm<5.0,>=4.48 in /glob/development-tools/versions/oneapi/2023.0.1/oneapi/intelpython/python3.9/lib/python3.9/site-packages (from dataprep) (4.64.0)\n",
      "Requirement already satisfied: bokeh<3,>=2 in ./.local/lib/python3.9/site-packages (from dataprep) (2.4.3)\n",
      "Requirement already satisfied: python-stdnum<2.0,>=1.16 in ./.local/lib/python3.9/site-packages (from dataprep) (1.18)\n",
      "Requirement already satisfied: aiohttp<4.0,>=3.6 in ./.local/lib/python3.9/site-packages (from dataprep) (3.8.4)\n",
      "Requirement already satisfied: pydot<2.0.0,>=1.4.2 in ./.local/lib/python3.9/site-packages (from dataprep) (1.4.2)\n",
      "Requirement already satisfied: pandas<2.0,>=1.1 in /glob/development-tools/versions/oneapi/2023.0.1/oneapi/intelpython/python3.9/lib/python3.9/site-packages (from dataprep) (1.5.1)\n",
      "Requirement already satisfied: nltk<4.0.0,>=3.6.7 in ./.local/lib/python3.9/site-packages (from dataprep) (3.8.1)\n",
      "Requirement already satisfied: varname<0.9.0,>=0.8.1 in ./.local/lib/python3.9/site-packages (from dataprep) (0.8.3)\n",
      "Requirement already satisfied: metaphone<0.7,>=0.6 in ./.local/lib/python3.9/site-packages (from dataprep) (0.6)\n",
      "Requirement already satisfied: regex<2022.0.0,>=2021.8.3 in ./.local/lib/python3.9/site-packages (from dataprep) (2021.11.10)\n",
      "Requirement already satisfied: flask<3,>=2 in ./.local/lib/python3.9/site-packages (from dataprep) (2.2.3)\n",
      "Requirement already satisfied: scipy<2.0,>=1.8 in ./.local/lib/python3.9/site-packages (from dataprep) (1.10.1)\n",
      "Requirement already satisfied: ipywidgets<8.0,>=7.5 in ./.local/lib/python3.9/site-packages (from dataprep) (7.7.3)\n",
      "Requirement already satisfied: python-crfsuite==0.9.8 in ./.local/lib/python3.9/site-packages (from dataprep) (0.9.8)\n",
      "Requirement already satisfied: wordcloud<2.0,>=1.8 in ./.local/lib/python3.9/site-packages (from dataprep) (1.8.2.2)\n",
      "Requirement already satisfied: sqlalchemy==1.3.24 in ./.local/lib/python3.9/site-packages (from dataprep) (1.3.24)\n",
      "Requirement already satisfied: async-timeout<5.0,>=4.0.0a3 in ./.local/lib/python3.9/site-packages (from aiohttp<4.0,>=3.6->dataprep) (4.0.2)\n",
      "Requirement already satisfied: aiosignal>=1.1.2 in ./.local/lib/python3.9/site-packages (from aiohttp<4.0,>=3.6->dataprep) (1.3.1)\n",
      "Requirement already satisfied: charset-normalizer<4.0,>=2.0 in /glob/development-tools/versions/oneapi/2023.0.1/oneapi/intelpython/python3.9/lib/python3.9/site-packages (from aiohttp<4.0,>=3.6->dataprep) (2.0.4)\n",
      "Requirement already satisfied: multidict<7.0,>=4.5 in ./.local/lib/python3.9/site-packages (from aiohttp<4.0,>=3.6->dataprep) (6.0.4)\n",
      "Requirement already satisfied: frozenlist>=1.1.1 in ./.local/lib/python3.9/site-packages (from aiohttp<4.0,>=3.6->dataprep) (1.3.3)\n",
      "Requirement already satisfied: attrs>=17.3.0 in ./.local/lib/python3.9/site-packages (from aiohttp<4.0,>=3.6->dataprep) (22.2.0)\n",
      "Requirement already satisfied: yarl<2.0,>=1.0 in ./.local/lib/python3.9/site-packages (from aiohttp<4.0,>=3.6->dataprep) (1.8.2)\n",
      "Requirement already satisfied: tornado>=5.1 in /glob/development-tools/versions/oneapi/2023.0.1/oneapi/intelpython/python3.9/lib/python3.9/site-packages (from bokeh<3,>=2->dataprep) (6.2)\n",
      "Requirement already satisfied: pillow>=7.1.0 in /glob/development-tools/versions/oneapi/2023.0.1/oneapi/intelpython/python3.9/lib/python3.9/site-packages (from bokeh<3,>=2->dataprep) (9.4.0)\n",
      "Requirement already satisfied: typing-extensions>=3.10.0 in ./.local/lib/python3.9/site-packages (from bokeh<3,>=2->dataprep) (4.5.0)\n",
      "Requirement already satisfied: PyYAML>=3.10 in /glob/development-tools/versions/oneapi/2023.0.1/oneapi/intelpython/python3.9/lib/python3.9/site-packages (from bokeh<3,>=2->dataprep) (6.0)\n",
      "Requirement already satisfied: packaging>=16.8 in /glob/development-tools/versions/oneapi/2023.0.1/oneapi/intelpython/python3.9/lib/python3.9/site-packages (from bokeh<3,>=2->dataprep) (21.3)\n",
      "Requirement already satisfied: partd>=1.2.0 in ./.local/lib/python3.9/site-packages (from dask[array,dataframe,delayed]>=2022.3.0->dataprep) (1.3.0)\n",
      "Requirement already satisfied: toolz>=0.8.2 in ./.local/lib/python3.9/site-packages (from dask[array,dataframe,delayed]>=2022.3.0->dataprep) (0.12.0)\n",
      "Requirement already satisfied: click>=7.0 in ./.local/lib/python3.9/site-packages (from dask[array,dataframe,delayed]>=2022.3.0->dataprep) (8.1.3)\n",
      "Requirement already satisfied: cloudpickle>=1.1.1 in ./.local/lib/python3.9/site-packages (from dask[array,dataframe,delayed]>=2022.3.0->dataprep) (2.2.1)\n",
      "Requirement already satisfied: fsspec>=0.6.0 in ./.local/lib/python3.9/site-packages (from dask[array,dataframe,delayed]>=2022.3.0->dataprep) (2023.3.0)\n",
      "Requirement already satisfied: Werkzeug>=2.2.2 in ./.local/lib/python3.9/site-packages (from flask<3,>=2->dataprep) (2.2.3)\n",
      "Requirement already satisfied: importlib-metadata>=3.6.0 in /glob/development-tools/versions/oneapi/2023.0.1/oneapi/intelpython/python3.9/lib/python3.9/site-packages (from flask<3,>=2->dataprep) (6.0.0)\n",
      "Requirement already satisfied: itsdangerous>=2.0 in ./.local/lib/python3.9/site-packages (from flask<3,>=2->dataprep) (2.1.2)\n",
      "Requirement already satisfied: Six in /glob/development-tools/versions/oneapi/2023.0.1/oneapi/intelpython/python3.9/lib/python3.9/site-packages (from flask_cors<4.0.0,>=3.0.10->dataprep) (1.16.0)\n",
      "Requirement already satisfied: ipython>=4.0.0 in /glob/development-tools/versions/oneapi/2023.0.1/oneapi/intelpython/python3.9/lib/python3.9/site-packages (from ipywidgets<8.0,>=7.5->dataprep) (8.9.0)\n",
      "Requirement already satisfied: widgetsnbextension~=3.6.0 in ./.local/lib/python3.9/site-packages (from ipywidgets<8.0,>=7.5->dataprep) (3.6.2)\n",
      "Requirement already satisfied: traitlets>=4.3.1 in /glob/development-tools/versions/oneapi/2023.0.1/oneapi/intelpython/python3.9/lib/python3.9/site-packages (from ipywidgets<8.0,>=7.5->dataprep) (5.9.0)\n",
      "Requirement already satisfied: ipython-genutils~=0.2.0 in ./.local/lib/python3.9/site-packages (from ipywidgets<8.0,>=7.5->dataprep) (0.2.0)\n",
      "Requirement already satisfied: ipykernel>=4.5.1 in /glob/development-tools/versions/oneapi/2023.0.1/oneapi/intelpython/python3.9/lib/python3.9/site-packages (from ipywidgets<8.0,>=7.5->dataprep) (6.21.1)\n",
      "Requirement already satisfied: jupyterlab-widgets<3,>=1.0.0 in ./.local/lib/python3.9/site-packages (from ipywidgets<8.0,>=7.5->dataprep) (1.1.2)\n",
      "Requirement already satisfied: MarkupSafe>=2.0 in ./.local/lib/python3.9/site-packages (from jinja2<3.1,>=3.0->dataprep) (2.1.2)\n",
      "Requirement already satisfied: ply in ./.local/lib/python3.9/site-packages (from jsonpath-ng<2.0,>=1.5->dataprep) (3.11)\n",
      "Requirement already satisfied: decorator in /glob/development-tools/versions/oneapi/2023.0.1/oneapi/intelpython/python3.9/lib/python3.9/site-packages (from jsonpath-ng<2.0,>=1.5->dataprep) (5.1.1)\n",
      "Requirement already satisfied: joblib in ./.local/lib/python3.9/site-packages (from nltk<4.0.0,>=3.6.7->dataprep) (1.2.0)\n",
      "Requirement already satisfied: python-dateutil>=2.8.1 in /glob/development-tools/versions/oneapi/2023.0.1/oneapi/intelpython/python3.9/lib/python3.9/site-packages (from pandas<2.0,>=1.1->dataprep) (2.8.2)\n",
      "Requirement already satisfied: pytz>=2020.1 in /glob/development-tools/versions/oneapi/2023.0.1/oneapi/intelpython/python3.9/lib/python3.9/site-packages (from pandas<2.0,>=1.1->dataprep) (2022.1)\n",
      "Requirement already satisfied: pyparsing>=2.1.4 in /glob/development-tools/versions/oneapi/2023.0.1/oneapi/intelpython/python3.9/lib/python3.9/site-packages (from pydot<2.0.0,>=1.4.2->dataprep) (3.0.9)\n",
      "Requirement already satisfied: executing<0.9.0,>=0.8.3 in ./.local/lib/python3.9/site-packages (from varname<0.9.0,>=0.8.1->dataprep) (0.8.3)\n",
      "Requirement already satisfied: asttokens<3.0.0,>=2.0.0 in /glob/development-tools/versions/oneapi/2023.0.1/oneapi/intelpython/python3.9/lib/python3.9/site-packages (from varname<0.9.0,>=0.8.1->dataprep) (2.2.1)\n",
      "Requirement already satisfied: pure_eval<1.0.0 in /glob/development-tools/versions/oneapi/2023.0.1/oneapi/intelpython/python3.9/lib/python3.9/site-packages (from varname<0.9.0,>=0.8.1->dataprep) (0.2.2)\n",
      "Requirement already satisfied: matplotlib in /glob/development-tools/versions/oneapi/2023.0.1/oneapi/intelpython/python3.9/lib/python3.9/site-packages (from wordcloud<2.0,>=1.8->dataprep) (3.6.3)\n",
      "Requirement already satisfied: zipp>=0.5 in /glob/development-tools/versions/oneapi/2023.0.1/oneapi/intelpython/python3.9/lib/python3.9/site-packages (from importlib-metadata>=3.6.0->flask<3,>=2->dataprep) (3.12.0)\n",
      "Requirement already satisfied: comm>=0.1.1 in /glob/development-tools/versions/oneapi/2023.0.1/oneapi/intelpython/python3.9/lib/python3.9/site-packages (from ipykernel>=4.5.1->ipywidgets<8.0,>=7.5->dataprep) (0.1.2)\n",
      "Requirement already satisfied: nest-asyncio in /glob/development-tools/versions/oneapi/2023.0.1/oneapi/intelpython/python3.9/lib/python3.9/site-packages (from ipykernel>=4.5.1->ipywidgets<8.0,>=7.5->dataprep) (1.5.6)\n",
      "Requirement already satisfied: pyzmq>=17 in /glob/development-tools/versions/oneapi/2023.0.1/oneapi/intelpython/python3.9/lib/python3.9/site-packages (from ipykernel>=4.5.1->ipywidgets<8.0,>=7.5->dataprep) (25.0.0)\n",
      "Requirement already satisfied: debugpy>=1.6.5 in /glob/development-tools/versions/oneapi/2023.0.1/oneapi/intelpython/python3.9/lib/python3.9/site-packages (from ipykernel>=4.5.1->ipywidgets<8.0,>=7.5->dataprep) (1.6.6)\n",
      "Requirement already satisfied: jupyter-client>=6.1.12 in /glob/development-tools/versions/oneapi/2023.0.1/oneapi/intelpython/python3.9/lib/python3.9/site-packages (from ipykernel>=4.5.1->ipywidgets<8.0,>=7.5->dataprep) (8.0.2)\n",
      "Requirement already satisfied: psutil in /glob/development-tools/versions/oneapi/2023.0.1/oneapi/intelpython/python3.9/lib/python3.9/site-packages (from ipykernel>=4.5.1->ipywidgets<8.0,>=7.5->dataprep) (5.9.4)\n",
      "Requirement already satisfied: jupyter-core!=5.0.*,>=4.12 in /glob/development-tools/versions/oneapi/2023.0.1/oneapi/intelpython/python3.9/lib/python3.9/site-packages (from ipykernel>=4.5.1->ipywidgets<8.0,>=7.5->dataprep) (5.2.0)\n",
      "Requirement already satisfied: matplotlib-inline>=0.1 in /glob/development-tools/versions/oneapi/2023.0.1/oneapi/intelpython/python3.9/lib/python3.9/site-packages (from ipykernel>=4.5.1->ipywidgets<8.0,>=7.5->dataprep) (0.1.6)\n",
      "Requirement already satisfied: jedi>=0.16 in /glob/development-tools/versions/oneapi/2023.0.1/oneapi/intelpython/python3.9/lib/python3.9/site-packages (from ipython>=4.0.0->ipywidgets<8.0,>=7.5->dataprep) (0.18.2)\n",
      "Requirement already satisfied: backcall in /glob/development-tools/versions/oneapi/2023.0.1/oneapi/intelpython/python3.9/lib/python3.9/site-packages (from ipython>=4.0.0->ipywidgets<8.0,>=7.5->dataprep) (0.2.0)\n",
      "Requirement already satisfied: pickleshare in /glob/development-tools/versions/oneapi/2023.0.1/oneapi/intelpython/python3.9/lib/python3.9/site-packages (from ipython>=4.0.0->ipywidgets<8.0,>=7.5->dataprep) (0.7.5)\n",
      "Requirement already satisfied: pygments>=2.4.0 in /glob/development-tools/versions/oneapi/2023.0.1/oneapi/intelpython/python3.9/lib/python3.9/site-packages (from ipython>=4.0.0->ipywidgets<8.0,>=7.5->dataprep) (2.14.0)\n",
      "Requirement already satisfied: stack-data in ./.local/lib/python3.9/site-packages (from ipython>=4.0.0->ipywidgets<8.0,>=7.5->dataprep) (0.5.1)\n",
      "Requirement already satisfied: prompt-toolkit<3.1.0,>=3.0.30 in /glob/development-tools/versions/oneapi/2023.0.1/oneapi/intelpython/python3.9/lib/python3.9/site-packages (from ipython>=4.0.0->ipywidgets<8.0,>=7.5->dataprep) (3.0.36)\n",
      "Requirement already satisfied: pexpect>4.3 in /glob/development-tools/versions/oneapi/2023.0.1/oneapi/intelpython/python3.9/lib/python3.9/site-packages (from ipython>=4.0.0->ipywidgets<8.0,>=7.5->dataprep) (4.8.0)\n",
      "Requirement already satisfied: locket in ./.local/lib/python3.9/site-packages (from partd>=1.2.0->dask[array,dataframe,delayed]>=2022.3.0->dataprep) (1.0.0)\n",
      "Requirement already satisfied: notebook>=4.4.1 in ./.local/lib/python3.9/site-packages (from widgetsnbextension~=3.6.0->ipywidgets<8.0,>=7.5->dataprep) (6.5.3)\n",
      "Requirement already satisfied: idna>=2.0 in /glob/development-tools/versions/oneapi/2023.0.1/oneapi/intelpython/python3.9/lib/python3.9/site-packages (from yarl<2.0,>=1.0->aiohttp<4.0,>=3.6->dataprep) (3.4)\n",
      "Requirement already satisfied: cycler>=0.10 in /glob/development-tools/versions/oneapi/2023.0.1/oneapi/intelpython/python3.9/lib/python3.9/site-packages (from matplotlib->wordcloud<2.0,>=1.8->dataprep) (0.11.0)\n",
      "Requirement already satisfied: kiwisolver>=1.0.1 in /glob/development-tools/versions/oneapi/2023.0.1/oneapi/intelpython/python3.9/lib/python3.9/site-packages (from matplotlib->wordcloud<2.0,>=1.8->dataprep) (1.4.2)\n",
      "Requirement already satisfied: fonttools>=4.22.0 in /glob/development-tools/versions/oneapi/2023.0.1/oneapi/intelpython/python3.9/lib/python3.9/site-packages (from matplotlib->wordcloud<2.0,>=1.8->dataprep) (4.38.0)\n",
      "Requirement already satisfied: contourpy>=1.0.1 in /glob/development-tools/versions/oneapi/2023.0.1/oneapi/intelpython/python3.9/lib/python3.9/site-packages (from matplotlib->wordcloud<2.0,>=1.8->dataprep) (1.0.7)\n",
      "Requirement already satisfied: parso<0.9.0,>=0.8.0 in /glob/development-tools/versions/oneapi/2023.0.1/oneapi/intelpython/python3.9/lib/python3.9/site-packages (from jedi>=0.16->ipython>=4.0.0->ipywidgets<8.0,>=7.5->dataprep) (0.8.3)\n",
      "Requirement already satisfied: platformdirs>=2.5 in /glob/development-tools/versions/oneapi/2023.0.1/oneapi/intelpython/python3.9/lib/python3.9/site-packages (from jupyter-core!=5.0.*,>=4.12->ipykernel>=4.5.1->ipywidgets<8.0,>=7.5->dataprep) (2.6.2)\n",
      "Requirement already satisfied: nbclassic>=0.4.7 in ./.local/lib/python3.9/site-packages (from notebook>=4.4.1->widgetsnbextension~=3.6.0->ipywidgets<8.0,>=7.5->dataprep) (0.5.3)\n",
      "Requirement already satisfied: nbconvert>=5 in ./.local/lib/python3.9/site-packages (from notebook>=4.4.1->widgetsnbextension~=3.6.0->ipywidgets<8.0,>=7.5->dataprep) (7.2.9)\n",
      "Requirement already satisfied: Send2Trash>=1.8.0 in ./.local/lib/python3.9/site-packages (from notebook>=4.4.1->widgetsnbextension~=3.6.0->ipywidgets<8.0,>=7.5->dataprep) (1.8.0)\n",
      "Requirement already satisfied: argon2-cffi in ./.local/lib/python3.9/site-packages (from notebook>=4.4.1->widgetsnbextension~=3.6.0->ipywidgets<8.0,>=7.5->dataprep) (21.3.0)\n",
      "Requirement already satisfied: nbformat in ./.local/lib/python3.9/site-packages (from notebook>=4.4.1->widgetsnbextension~=3.6.0->ipywidgets<8.0,>=7.5->dataprep) (5.7.3)\n",
      "Requirement already satisfied: prometheus-client in ./.local/lib/python3.9/site-packages (from notebook>=4.4.1->widgetsnbextension~=3.6.0->ipywidgets<8.0,>=7.5->dataprep) (0.16.0)\n",
      "Requirement already satisfied: terminado>=0.8.3 in ./.local/lib/python3.9/site-packages (from notebook>=4.4.1->widgetsnbextension~=3.6.0->ipywidgets<8.0,>=7.5->dataprep) (0.17.1)\n",
      "Requirement already satisfied: ptyprocess>=0.5 in /glob/development-tools/versions/oneapi/2023.0.1/oneapi/intelpython/python3.9/lib/python3.9/site-packages (from pexpect>4.3->ipython>=4.0.0->ipywidgets<8.0,>=7.5->dataprep) (0.7.0)\n",
      "Requirement already satisfied: wcwidth in /glob/development-tools/versions/oneapi/2023.0.1/oneapi/intelpython/python3.9/lib/python3.9/site-packages (from prompt-toolkit<3.1.0,>=3.0.30->ipython>=4.0.0->ipywidgets<8.0,>=7.5->dataprep) (0.2.6)\n",
      "Requirement already satisfied: notebook-shim>=0.1.0 in ./.local/lib/python3.9/site-packages (from nbclassic>=0.4.7->notebook>=4.4.1->widgetsnbextension~=3.6.0->ipywidgets<8.0,>=7.5->dataprep) (0.2.2)\n",
      "Requirement already satisfied: jupyter-server>=1.8 in ./.local/lib/python3.9/site-packages (from nbclassic>=0.4.7->notebook>=4.4.1->widgetsnbextension~=3.6.0->ipywidgets<8.0,>=7.5->dataprep) (2.4.0)\n",
      "Requirement already satisfied: bleach in ./.local/lib/python3.9/site-packages (from nbconvert>=5->notebook>=4.4.1->widgetsnbextension~=3.6.0->ipywidgets<8.0,>=7.5->dataprep) (6.0.0)\n",
      "Requirement already satisfied: defusedxml in ./.local/lib/python3.9/site-packages (from nbconvert>=5->notebook>=4.4.1->widgetsnbextension~=3.6.0->ipywidgets<8.0,>=7.5->dataprep) (0.7.1)\n",
      "Requirement already satisfied: nbclient>=0.5.0 in ./.local/lib/python3.9/site-packages (from nbconvert>=5->notebook>=4.4.1->widgetsnbextension~=3.6.0->ipywidgets<8.0,>=7.5->dataprep) (0.7.2)\n",
      "Requirement already satisfied: mistune<3,>=2.0.3 in ./.local/lib/python3.9/site-packages (from nbconvert>=5->notebook>=4.4.1->widgetsnbextension~=3.6.0->ipywidgets<8.0,>=7.5->dataprep) (2.0.5)\n",
      "Requirement already satisfied: pandocfilters>=1.4.1 in ./.local/lib/python3.9/site-packages (from nbconvert>=5->notebook>=4.4.1->widgetsnbextension~=3.6.0->ipywidgets<8.0,>=7.5->dataprep) (1.5.0)\n",
      "Requirement already satisfied: tinycss2 in ./.local/lib/python3.9/site-packages (from nbconvert>=5->notebook>=4.4.1->widgetsnbextension~=3.6.0->ipywidgets<8.0,>=7.5->dataprep) (1.2.1)\n",
      "Requirement already satisfied: jupyterlab-pygments in ./.local/lib/python3.9/site-packages (from nbconvert>=5->notebook>=4.4.1->widgetsnbextension~=3.6.0->ipywidgets<8.0,>=7.5->dataprep) (0.2.2)\n",
      "Requirement already satisfied: beautifulsoup4 in ./.local/lib/python3.9/site-packages (from nbconvert>=5->notebook>=4.4.1->widgetsnbextension~=3.6.0->ipywidgets<8.0,>=7.5->dataprep) (4.11.2)\n",
      "Requirement already satisfied: jsonschema>=2.6 in ./.local/lib/python3.9/site-packages (from nbformat->notebook>=4.4.1->widgetsnbextension~=3.6.0->ipywidgets<8.0,>=7.5->dataprep) (4.17.3)\n",
      "Requirement already satisfied: fastjsonschema in ./.local/lib/python3.9/site-packages (from nbformat->notebook>=4.4.1->widgetsnbextension~=3.6.0->ipywidgets<8.0,>=7.5->dataprep) (2.16.3)\n",
      "Requirement already satisfied: argon2-cffi-bindings in ./.local/lib/python3.9/site-packages (from argon2-cffi->notebook>=4.4.1->widgetsnbextension~=3.6.0->ipywidgets<8.0,>=7.5->dataprep) (21.2.0)\n",
      "Requirement already satisfied: pyrsistent!=0.17.0,!=0.17.1,!=0.17.2,>=0.14.0 in ./.local/lib/python3.9/site-packages (from jsonschema>=2.6->nbformat->notebook>=4.4.1->widgetsnbextension~=3.6.0->ipywidgets<8.0,>=7.5->dataprep) (0.19.3)\n",
      "Requirement already satisfied: anyio>=3.1.0 in ./.local/lib/python3.9/site-packages (from jupyter-server>=1.8->nbclassic>=0.4.7->notebook>=4.4.1->widgetsnbextension~=3.6.0->ipywidgets<8.0,>=7.5->dataprep) (3.6.2)\n",
      "Requirement already satisfied: jupyter-events>=0.4.0 in ./.local/lib/python3.9/site-packages (from jupyter-server>=1.8->nbclassic>=0.4.7->notebook>=4.4.1->widgetsnbextension~=3.6.0->ipywidgets<8.0,>=7.5->dataprep) (0.6.3)\n",
      "Requirement already satisfied: jupyter-server-terminals in ./.local/lib/python3.9/site-packages (from jupyter-server>=1.8->nbclassic>=0.4.7->notebook>=4.4.1->widgetsnbextension~=3.6.0->ipywidgets<8.0,>=7.5->dataprep) (0.4.4)\n",
      "Requirement already satisfied: websocket-client in ./.local/lib/python3.9/site-packages (from jupyter-server>=1.8->nbclassic>=0.4.7->notebook>=4.4.1->widgetsnbextension~=3.6.0->ipywidgets<8.0,>=7.5->dataprep) (1.5.1)\n",
      "Requirement already satisfied: cffi>=1.0.1 in /glob/development-tools/versions/oneapi/2023.0.1/oneapi/intelpython/python3.9/lib/python3.9/site-packages (from argon2-cffi-bindings->argon2-cffi->notebook>=4.4.1->widgetsnbextension~=3.6.0->ipywidgets<8.0,>=7.5->dataprep) (1.15.1)\n",
      "Requirement already satisfied: soupsieve>1.2 in ./.local/lib/python3.9/site-packages (from beautifulsoup4->nbconvert>=5->notebook>=4.4.1->widgetsnbextension~=3.6.0->ipywidgets<8.0,>=7.5->dataprep) (2.4)\n",
      "Requirement already satisfied: webencodings in ./.local/lib/python3.9/site-packages (from bleach->nbconvert>=5->notebook>=4.4.1->widgetsnbextension~=3.6.0->ipywidgets<8.0,>=7.5->dataprep) (0.5.1)\n",
      "Requirement already satisfied: sniffio>=1.1 in ./.local/lib/python3.9/site-packages (from anyio>=3.1.0->jupyter-server>=1.8->nbclassic>=0.4.7->notebook>=4.4.1->widgetsnbextension~=3.6.0->ipywidgets<8.0,>=7.5->dataprep) (1.3.0)\n",
      "Requirement already satisfied: pycparser in /glob/development-tools/versions/oneapi/2023.0.1/oneapi/intelpython/python3.9/lib/python3.9/site-packages (from cffi>=1.0.1->argon2-cffi-bindings->argon2-cffi->notebook>=4.4.1->widgetsnbextension~=3.6.0->ipywidgets<8.0,>=7.5->dataprep) (2.21)\n",
      "Requirement already satisfied: rfc3339-validator in ./.local/lib/python3.9/site-packages (from jupyter-events>=0.4.0->jupyter-server>=1.8->nbclassic>=0.4.7->notebook>=4.4.1->widgetsnbextension~=3.6.0->ipywidgets<8.0,>=7.5->dataprep) (0.1.4)\n",
      "Requirement already satisfied: python-json-logger>=2.0.4 in ./.local/lib/python3.9/site-packages (from jupyter-events>=0.4.0->jupyter-server>=1.8->nbclassic>=0.4.7->notebook>=4.4.1->widgetsnbextension~=3.6.0->ipywidgets<8.0,>=7.5->dataprep) (2.0.7)\n",
      "Requirement already satisfied: rfc3986-validator>=0.1.1 in ./.local/lib/python3.9/site-packages (from jupyter-events>=0.4.0->jupyter-server>=1.8->nbclassic>=0.4.7->notebook>=4.4.1->widgetsnbextension~=3.6.0->ipywidgets<8.0,>=7.5->dataprep) (0.1.1)\n",
      "Requirement already satisfied: fqdn in ./.local/lib/python3.9/site-packages (from jsonschema>=2.6->nbformat->notebook>=4.4.1->widgetsnbextension~=3.6.0->ipywidgets<8.0,>=7.5->dataprep) (1.5.1)\n",
      "Requirement already satisfied: jsonpointer>1.13 in ./.local/lib/python3.9/site-packages (from jsonschema>=2.6->nbformat->notebook>=4.4.1->widgetsnbextension~=3.6.0->ipywidgets<8.0,>=7.5->dataprep) (2.3)\n",
      "Requirement already satisfied: webcolors>=1.11 in ./.local/lib/python3.9/site-packages (from jsonschema>=2.6->nbformat->notebook>=4.4.1->widgetsnbextension~=3.6.0->ipywidgets<8.0,>=7.5->dataprep) (1.12)\n",
      "Requirement already satisfied: isoduration in ./.local/lib/python3.9/site-packages (from jsonschema>=2.6->nbformat->notebook>=4.4.1->widgetsnbextension~=3.6.0->ipywidgets<8.0,>=7.5->dataprep) (20.11.0)\n",
      "Requirement already satisfied: uri-template in ./.local/lib/python3.9/site-packages (from jsonschema>=2.6->nbformat->notebook>=4.4.1->widgetsnbextension~=3.6.0->ipywidgets<8.0,>=7.5->dataprep) (1.2.0)\n",
      "Requirement already satisfied: arrow>=0.15.0 in ./.local/lib/python3.9/site-packages (from isoduration->jsonschema>=2.6->nbformat->notebook>=4.4.1->widgetsnbextension~=3.6.0->ipywidgets<8.0,>=7.5->dataprep) (1.2.3)\n"
     ]
    }
   ],
   "source": [
    "pip install dpcpp-cpp-rt"
   ]
  },
  {
   "cell_type": "code",
   "execution_count": 32,
   "id": "57ca1c2f-0db6-4489-86b0-02b7473bfea9",
   "metadata": {},
   "outputs": [],
   "source": [
    "# Importing libraries\n",
    "\n",
    "from __future__ import print_function\n",
    "import pandas as pd\n",
    "import numpy as np\n",
    "import matplotlib.pyplot as plt\n",
    "from sklearn.metrics import classification_report\n",
    "from sklearn import metrics\n",
    "import warnings\n",
    "warnings.filterwarnings('ignore')"
   ]
  },
  {
   "cell_type": "code",
   "execution_count": 33,
   "id": "18e20673-0a74-43cc-88e7-ddb045fce13d",
   "metadata": {},
   "outputs": [],
   "source": [
    "#loading the datset\n",
    "train=pd.read_csv('train_genetic_disorders.csv')\n",
    "test=pd.read_csv('test_genetic_disorders.csv')\n",
    "data_train=train.copy()\n",
    "data_test=test.copy()"
   ]
  },
  {
   "cell_type": "code",
   "execution_count": 34,
   "id": "8a4f0f42-3072-44b3-a611-5fbf8d0bbe23",
   "metadata": {},
   "outputs": [
    {
     "name": "stdout",
     "output_type": "stream",
     "text": [
      "Null rows_train: 1072\n"
     ]
    }
   ],
   "source": [
    "#check all null rows\n",
    "data_train[data_train.isnull().all(1)].shape\n",
    "print(\"Null rows_train:\",data_train[data_train.isnull().all(1)].shape[0])"
   ]
  },
  {
   "cell_type": "code",
   "execution_count": 35,
   "id": "f07dabb8-0be1-494d-b4a6-b17b6e2d8828",
   "metadata": {},
   "outputs": [
    {
     "name": "stdout",
     "output_type": "stream",
     "text": [
      "Null rows_test: 173\n"
     ]
    }
   ],
   "source": [
    "#check all null rows\n",
    "data_test[data_test.isnull().all(1)].shape\n",
    "print(\"Null rows_test:\",data_test[data_test.isnull().all(1)].shape[0])"
   ]
  },
  {
   "cell_type": "code",
   "execution_count": 36,
   "id": "dc6f46ea-4552-4aa8-ae9d-dfdc18875a6c",
   "metadata": {},
   "outputs": [],
   "source": [
    "#subset where no all rows being null\n",
    "data_fea_train=data_train[data_train.isnull().all(1)!=True]"
   ]
  },
  {
   "cell_type": "code",
   "execution_count": 37,
   "id": "31d1e44c-5cf2-44a0-8e60-4fbfdae8a561",
   "metadata": {},
   "outputs": [
    {
     "data": {
      "text/plain": [
       "(21011, 45)"
      ]
     },
     "execution_count": 37,
     "metadata": {},
     "output_type": "execute_result"
    }
   ],
   "source": [
    "#shape of train after removing null rows\n",
    "data_fea_train.shape"
   ]
  },
  {
   "cell_type": "code",
   "execution_count": 38,
   "id": "0565d3b5-4031-499c-a6cd-a5920a2d4ccf",
   "metadata": {},
   "outputs": [],
   "source": [
    "#subset where no all rows being null\n",
    "data_fea_test=data_test[data_test.isnull().all(1)!=True]"
   ]
  },
  {
   "cell_type": "code",
   "execution_count": 39,
   "id": "88d423d9-6679-4257-bb1d-6e6c297ce511",
   "metadata": {},
   "outputs": [],
   "source": [
    "# Dropping the features\n",
    "data_fea_train=data_fea_train.drop(columns=['Patient Id','Patient First Name','Family Name','Father\\'s name','Institute Name','Location of Institute','Test 1','Test 2','Test 3','Test 4',\n",
    "'Test 5','Parental consent'])\n",
    "data_fea_test=data_fea_test.drop(columns=['Patient Id','Patient First Name','Family Name','Father\\'s name','Institute Name','Location of Institute','Test 1','Test 2','Test 3','Test 4',\n",
    "'Test 5','Parental consent'])"
   ]
  },
  {
   "cell_type": "code",
   "execution_count": 40,
   "id": "cbd96235-4dfd-43fc-87fc-6cf8dadea840",
   "metadata": {},
   "outputs": [
    {
     "name": "stdout",
     "output_type": "stream",
     "text": [
      "(21011, 33) (9290, 31)\n"
     ]
    }
   ],
   "source": [
    "print(data_fea_train.shape,data_fea_test.shape)"
   ]
  },
  {
   "cell_type": "code",
   "execution_count": 41,
   "id": "a7a69a0b-8cc4-4d7a-a535-56159f3e847d",
   "metadata": {},
   "outputs": [],
   "source": [
    "# renaming the columns\n",
    "data_fea_train=data_fea_train.rename(columns={\"Genes in mother's side\":'defective_mother',\n",
    "                    'Inherited from father':'defective_father',\n",
    "                    'Maternal gene':'maternal_gene','Paternal gene':'paternal_gene',\n",
    "                    'Respiratory Rate (breaths/min)':'respiratory_rate','Heart Rate (rates/min':'heart_rate',\n",
    "                    'Parental consent':'parental_consent','Follow-up':'follow_up','Birth asphyxia':'birth_asphyxia',\n",
    "                    'Autopsy shows birth defect (if applicable)':'birth_defect_autopsy','Place of birth':'birth_place',\n",
    "                    'Folic acid details (peri-conceptional)':'folic_acid_periconceptional',\n",
    "                    'H/O serious maternal illness':'maternal_illness','H/O radiation exposure (x-ray)':'radiation_exposure',\n",
    "                    'H/O substance abuse':'substance_abuse','Assisted conception IVF/ART':'assisted_conception',\n",
    "                    'History of anomalies in previous pregnancies':'previous_pregnancy_anomalies',\n",
    "                    'Birth defects':'birth_defects','Blood test result':'blood_test_result','Genetic Disorder':'genetic_disorder',\n",
    "                    'Disorder Subclass':'disorder_subclass','Patient Age':'patient_age','Blood cell count (mcL)':'blood_cell_count',\n",
    "                    \"Mother's age\":'mother_age',\"Father's age\":'father_age','No. of previous abortion':'num_previous_abortion',\n",
    "                    'White Blood cell count (thousand per microliter)':'WBC_count'})"
   ]
  },
  {
   "cell_type": "code",
   "execution_count": 42,
   "id": "7a7d25a1-e18d-40ae-971c-fe3d992e14f5",
   "metadata": {},
   "outputs": [],
   "source": [
    "data_fea_test=data_fea_test.rename(columns={\"Genes in mother's side\":'defective_mother',\n",
    "                    'Inherited from father':'defective_father',\n",
    "                    'Maternal gene':'maternal_gene','Paternal gene':'paternal_gene',\n",
    "                    'Respiratory Rate (breaths/min)':'respiratory_rate','Heart Rate (rates/min':'heart_rate',\n",
    "                    'Parental consent':'parental_consent','Follow-up':'follow_up','Birth asphyxia':'birth_asphyxia',\n",
    "                    'Autopsy shows birth defect (if applicable)':'birth_defect_autopsy','Place of birth':'birth_place',\n",
    "                    'Folic acid details (peri-conceptional)':'folic_acid_periconceptional',\n",
    "                    'H/O serious maternal illness':'maternal_illness','H/O radiation exposure (x-ray)':'radiation_exposure',\n",
    "                    'H/O substance abuse':'substance_abuse','Assisted conception IVF/ART':'assisted_conception',\n",
    "                    'History of anomalies in previous pregnancies':'previous_pregnancy_anomalies',\n",
    "                    'Birth defects':'birth_defects','Blood test result':'blood_test_result','Genetic Disorder':'genetic_disorder',\n",
    "                    'Disorder Subclass':'disorder_subclass','Patient Age':'patient_age','Blood cell count (mcL)':'blood_cell_count',\n",
    "                    \"Mother's age\":'mother_age',\"Father's age\":'father_age','No. of previous abortion':'num_previous_abortion',\n",
    "                    'White Blood cell count (thousand per microliter)':'WBC_count'})"
   ]
  },
  {
   "cell_type": "code",
   "execution_count": 43,
   "id": "0ca9bc86-70ab-4c32-8a25-e64661836367",
   "metadata": {},
   "outputs": [
    {
     "data": {
      "text/plain": [
       "(2049, 2068)"
      ]
     },
     "execution_count": 43,
     "metadata": {},
     "output_type": "execute_result"
    }
   ],
   "source": [
    "# missing target variables\n",
    "data_fea_train.iloc[:,-2].isnull().sum(),data_fea_train.iloc[:,-1].isnull().sum()"
   ]
  },
  {
   "cell_type": "code",
   "execution_count": 44,
   "id": "53225784-e46f-49e9-97d0-72924cff98da",
   "metadata": {},
   "outputs": [],
   "source": [
    "# removing rows of missing target variables\n",
    "data_fea_train=data_fea_train[(data_fea_train['genetic_disorder'].isnull()!=True)&(data_fea_train['disorder_subclass'].isnull()!=True)]"
   ]
  },
  {
   "cell_type": "code",
   "execution_count": 45,
   "id": "97d0ce1d-b60c-46ef-be89-27ca9672cd63",
   "metadata": {},
   "outputs": [
    {
     "data": {
      "text/plain": [
       "(17160, 33)"
      ]
     },
     "execution_count": 45,
     "metadata": {},
     "output_type": "execute_result"
    }
   ],
   "source": [
    "data_fea_train.shape"
   ]
  },
  {
   "cell_type": "code",
   "execution_count": 46,
   "id": "4ea44a66-b89d-4a25-a2a0-68b6289cdc05",
   "metadata": {},
   "outputs": [],
   "source": [
    "#Subsetting\n",
    "X=data_fea_train.iloc[:,:-2]\n",
    "y1=data_fea_train.iloc[:,-2]\n",
    "y2=data_fea_train.iloc[:,-1]"
   ]
  },
  {
   "cell_type": "code",
   "execution_count": 47,
   "id": "f75de840-0b59-4b49-8aa8-093ba4d267c2",
   "metadata": {},
   "outputs": [
    {
     "data": {
      "text/plain": [
       "((17160, 31), (17160,), (17160,))"
      ]
     },
     "execution_count": 47,
     "metadata": {},
     "output_type": "execute_result"
    }
   ],
   "source": [
    "# shape of features,target variables\n",
    "X.shape,y1.shape,y2.shape"
   ]
  },
  {
   "cell_type": "code",
   "execution_count": 48,
   "id": "e1a6b2f3-195c-4393-b242-01936d59c01f",
   "metadata": {},
   "outputs": [],
   "source": [
    "# test data\n",
    "X_test=data_fea_test"
   ]
  },
  {
   "cell_type": "code",
   "execution_count": 49,
   "id": "2bcb96cb-a533-4d9c-9036-6def77a31312",
   "metadata": {},
   "outputs": [],
   "source": [
    "#converting dissimilar datatype to one\n",
    "for i in X_test.columns:\n",
    "    if X_test[i].dtype!=X[i].dtype:\n",
    "        X_test[i]=X_test[i].astype(X[i].dtype.name)"
   ]
  },
  {
   "cell_type": "code",
   "execution_count": 50,
   "id": "618635b8-b9d8-4937-9b8b-c083a697f0ed",
   "metadata": {},
   "outputs": [],
   "source": [
    "# Data Cleaning\n",
    "X_test=X_test.replace('-99',np.nan)\n",
    "# Cleaning_data\n",
    "# replace '-' with other values\n",
    "X['radiation_exposure']=X['radiation_exposure'].replace('-','others')\n",
    "X['substance_abuse']=X['substance_abuse'].replace('-','others')\n",
    "# Cleaning_data\n",
    "X_test['radiation_exposure']=X_test['radiation_exposure'].replace('-','others')\n",
    "X_test['substance_abuse']=X_test['substance_abuse'].replace('-','others')"
   ]
  },
  {
   "cell_type": "code",
   "execution_count": 51,
   "id": "f9f18e32-c3e8-4f8f-aa22-1128b88a5a2c",
   "metadata": {},
   "outputs": [],
   "source": [
    "# Data Cleaning\n",
    "X_test['WBC_count']=X_test['WBC_count'].mask(X_test['WBC_count']<0,np.nan)\n",
    "X_test['num_previous_abortion']=X_test['num_previous_abortion'].mask(X_test['num_previous_abortion']<0,np.nan)"
   ]
  },
  {
   "cell_type": "code",
   "execution_count": 53,
   "id": "cd299d81-01ee-414e-b2f2-4f959cc0b587",
   "metadata": {},
   "outputs": [],
   "source": [
    "from sklearn.model_selection import train_test_split"
   ]
  },
  {
   "cell_type": "code",
   "execution_count": 54,
   "id": "0f3f3448-5444-4c56-8e3b-5e55347f3ffc",
   "metadata": {},
   "outputs": [],
   "source": [
    "#Splitting the data\n",
    "X_train1,X_val1,y_train1,y_val1= train_test_split(X,y1,stratify=y1,test_size=0.20)\n",
    "X_train2,X_val2,y_train2,y_val2= train_test_split(X,y2,stratify=y2,test_size=0.20)"
   ]
  },
  {
   "cell_type": "code",
   "execution_count": 55,
   "id": "2c17f7ac-adca-4bee-968a-aae3226b7b2f",
   "metadata": {},
   "outputs": [
    {
     "name": "stdout",
     "output_type": "stream",
     "text": [
      "(13728, 31) (3432, 31) (13728,) (3432,)\n",
      "(13728, 31) (3432, 31) (13728,) (3432,)\n"
     ]
    }
   ],
   "source": [
    "# shape of train,validation set\n",
    "print(X_train1.shape,X_val1.shape,y_train1.shape,y_val1.shape)\n",
    "print(X_train2.shape,X_val2.shape,y_train2.shape,y_val2.shape)"
   ]
  },
  {
   "cell_type": "code",
   "execution_count": 56,
   "id": "b44b6488-27cd-4b27-8d13-2c1c0d796e16",
   "metadata": {},
   "outputs": [],
   "source": [
    "# Missing value imputation\n",
    "from sklearn.impute import SimpleImputer\n",
    "imp_mode=SimpleImputer(strategy='most_frequent')\n",
    "imp_mode_num=SimpleImputer(strategy='most_frequent')\n",
    "imp_median=SimpleImputer(strategy='median')"
   ]
  },
  {
   "cell_type": "code",
   "execution_count": 57,
   "id": "5080606e-2d78-4728-ae63-a99d3fda372e",
   "metadata": {},
   "outputs": [],
   "source": [
    "pd.options.mode.chained_assignment = None  "
   ]
  },
  {
   "cell_type": "code",
   "execution_count": 58,
   "id": "bf8acfe6-18e1-44a8-944d-55b006d10367",
   "metadata": {},
   "outputs": [],
   "source": [
    "# missing value imputation\n",
    "for i in X.columns:\n",
    "    if (X[i].dtype.name!='object')&(X[i].nunique()<=3):\n",
    "        imp_mode_num.fit(np.array(X_train1[i]).reshape(-1,1))\n",
    "        X_train1[i]=imp_mode_num.transform(np.array(X_train1[i]).reshape(-1,1))\n",
    "        X_val1[i]=imp_mode_num.transform(np.array(X_val1[i]).reshape(-1,1))\n",
    "        X_test[i]=imp_mode_num.transform(np.array(X_test[i]).reshape(-1,1))\n",
    "    elif (X[i].dtype.name!='object')&(X[i].nunique()>3):\n",
    "        imp_median.fit(np.array(X_train1[i]).reshape(-1,1))\n",
    "        X_train1[i]=imp_median.transform(np.array(X_train1[i]).reshape(-1,1))\n",
    "        X_val1[i]=imp_median.transform(np.array(X_val1[i]).reshape(-1,1))\n",
    "        X_test[i]=imp_median.transform(np.array(X_test[i]).reshape(-1,1))\n",
    "    else:\n",
    "        imp_mode.fit(np.array(X_train1[i]).reshape(-1,1))\n",
    "        X_train1[i]=imp_mode.transform(np.array(X_train1[i]).reshape(-1,1))\n",
    "        X_val1[i]=imp_mode.transform(np.array(X_val1[i]).reshape(-1,1))\n",
    "        X_test[i]=imp_mode.transform(np.array(X_test[i]).reshape(-1,1))"
   ]
  },
  {
   "cell_type": "code",
   "execution_count": 59,
   "id": "1e51e296-53df-4c07-adc4-c42565c15080",
   "metadata": {},
   "outputs": [
    {
     "data": {
      "text/plain": [
       "patient_age                     0\n",
       "defective_mother                0\n",
       "defective_father                0\n",
       "maternal_gene                   0\n",
       "paternal_gene                   0\n",
       "blood_cell_count                0\n",
       "mother_age                      0\n",
       "father_age                      0\n",
       "Status                          0\n",
       "respiratory_rate                0\n",
       "heart_rate                      0\n",
       "follow_up                       0\n",
       "Gender                          0\n",
       "birth_asphyxia                  0\n",
       "birth_defect_autopsy            0\n",
       "birth_place                     0\n",
       "folic_acid_periconceptional     0\n",
       "maternal_illness                0\n",
       "radiation_exposure              0\n",
       "substance_abuse                 0\n",
       "assisted_conception             0\n",
       "previous_pregnancy_anomalies    0\n",
       "num_previous_abortion           0\n",
       "birth_defects                   0\n",
       "WBC_count                       0\n",
       "blood_test_result               0\n",
       "Symptom 1                       0\n",
       "Symptom 2                       0\n",
       "Symptom 3                       0\n",
       "Symptom 4                       0\n",
       "Symptom 5                       0\n",
       "dtype: int64"
      ]
     },
     "execution_count": 59,
     "metadata": {},
     "output_type": "execute_result"
    }
   ],
   "source": [
    "# checking null values\n",
    "X_train1.isnull().sum()"
   ]
  },
  {
   "cell_type": "code",
   "execution_count": 60,
   "id": "0266df4a-7dcf-4953-9e56-f7cb69544d0b",
   "metadata": {},
   "outputs": [
    {
     "data": {
      "text/plain": [
       "patient_age                     0\n",
       "defective_mother                0\n",
       "defective_father                0\n",
       "maternal_gene                   0\n",
       "paternal_gene                   0\n",
       "blood_cell_count                0\n",
       "mother_age                      0\n",
       "father_age                      0\n",
       "Status                          0\n",
       "respiratory_rate                0\n",
       "heart_rate                      0\n",
       "follow_up                       0\n",
       "Gender                          0\n",
       "birth_asphyxia                  0\n",
       "birth_defect_autopsy            0\n",
       "birth_place                     0\n",
       "folic_acid_periconceptional     0\n",
       "maternal_illness                0\n",
       "radiation_exposure              0\n",
       "substance_abuse                 0\n",
       "assisted_conception             0\n",
       "previous_pregnancy_anomalies    0\n",
       "num_previous_abortion           0\n",
       "birth_defects                   0\n",
       "WBC_count                       0\n",
       "blood_test_result               0\n",
       "Symptom 1                       0\n",
       "Symptom 2                       0\n",
       "Symptom 3                       0\n",
       "Symptom 4                       0\n",
       "Symptom 5                       0\n",
       "dtype: int64"
      ]
     },
     "execution_count": 60,
     "metadata": {},
     "output_type": "execute_result"
    }
   ],
   "source": [
    "X_val1.isnull().sum()"
   ]
  },
  {
   "cell_type": "code",
   "execution_count": 61,
   "id": "b8b5033f-24d8-4b27-8408-5bb3494acff6",
   "metadata": {},
   "outputs": [
    {
     "data": {
      "text/plain": [
       "patient_age                     0\n",
       "defective_mother                0\n",
       "defective_father                0\n",
       "maternal_gene                   0\n",
       "paternal_gene                   0\n",
       "blood_cell_count                0\n",
       "mother_age                      0\n",
       "father_age                      0\n",
       "Status                          0\n",
       "respiratory_rate                0\n",
       "heart_rate                      0\n",
       "follow_up                       0\n",
       "Gender                          0\n",
       "birth_asphyxia                  0\n",
       "birth_defect_autopsy            0\n",
       "birth_place                     0\n",
       "folic_acid_periconceptional     0\n",
       "maternal_illness                0\n",
       "radiation_exposure              0\n",
       "substance_abuse                 0\n",
       "assisted_conception             0\n",
       "previous_pregnancy_anomalies    0\n",
       "num_previous_abortion           0\n",
       "birth_defects                   0\n",
       "WBC_count                       0\n",
       "blood_test_result               0\n",
       "Symptom 1                       0\n",
       "Symptom 2                       0\n",
       "Symptom 3                       0\n",
       "Symptom 4                       0\n",
       "Symptom 5                       0\n",
       "dtype: int64"
      ]
     },
     "execution_count": 61,
     "metadata": {},
     "output_type": "execute_result"
    }
   ],
   "source": [
    "X_test.isnull().sum()"
   ]
  },
  {
   "cell_type": "code",
   "execution_count": 62,
   "id": "3b0f09ed-e642-4367-adee-3fc6562607bf",
   "metadata": {},
   "outputs": [],
   "source": [
    "from sklearn.preprocessing import OrdinalEncoder,OneHotEncoder,LabelEncoder,MinMaxScaler\n",
    "ord_enc=OrdinalEncoder()\n",
    "ohe_enc=OneHotEncoder()\n",
    "min_max=MinMaxScaler()"
   ]
  },
  {
   "cell_type": "code",
   "execution_count": 63,
   "id": "18b152bd-3121-4df3-ad04-f77410482b17",
   "metadata": {},
   "outputs": [],
   "source": [
    "# reset index\n",
    "X_train1.reset_index(inplace=True)\n",
    "X_val1.reset_index(inplace=True)"
   ]
  },
  {
   "cell_type": "code",
   "execution_count": 64,
   "id": "72606679-6c2c-4603-8e7d-47b899d1d7cc",
   "metadata": {},
   "outputs": [],
   "source": [
    "# encoding the features\n",
    "for i in X.columns:\n",
    "    if (X[i].dtype.name=='object'):\n",
    "        if i in X and X[i].nunique()<=2:\n",
    "            ord_enc.fit(np.array(X_train1[i]).reshape(-1,1))\n",
    "            X_train1.loc[:,i]=ord_enc.transform(np.array(X_train1[i]).reshape(-1,1))\n",
    "            X_val1.loc[:,i]=ord_enc.transform(np.array(X_val1[i]).reshape(-1,1))\n",
    "            X_test.loc[:,i]=ord_enc.transform(np.array(X_test[i]).reshape(-1,1))\n",
    "        else:\n",
    "            ohe_enc.fit(np.array(X_train1[i]).reshape(-1,1))\n",
    "            X_encode_tr1=pd.DataFrame(ohe_enc.transform(np.array(X_train1[i]).reshape(-1,1)).toarray(),columns=ohe_enc.get_feature_names([i]))\n",
    "            X_encode_va1=pd.DataFrame(ohe_enc.transform(np.array(X_val1[i]).reshape(-1,1)).toarray(),columns=ohe_enc.get_feature_names([i]))\n",
    "            X_encode1=pd.DataFrame(ohe_enc.transform(np.array(X_test[i]).reshape(-1,1)).toarray(),columns=ohe_enc.get_feature_names([i]))\n",
    "            X_train1=pd.concat([X_train1,X_encode_tr1],axis=1)\n",
    "            X_val1=pd.concat([X_val1,X_encode_va1],axis=1)\n",
    "            X_test=pd.concat([X_test,X_encode1],axis=1)\n",
    "            X_train1.drop(columns=[i],inplace=True)\n",
    "            X_val1.drop(columns=[i],inplace=True)\n",
    "            X_test.drop(columns=[i],inplace=True)"
   ]
  },
  {
   "cell_type": "code",
   "execution_count": 65,
   "id": "35f6295d-ed18-4a5b-ac72-9c438141702e",
   "metadata": {},
   "outputs": [
    {
     "data": {
      "text/plain": [
       "((13728, 49), (3432, 49), (9290, 48))"
      ]
     },
     "execution_count": 65,
     "metadata": {},
     "output_type": "execute_result"
    }
   ],
   "source": [
    "# shape of the train,test,val\n",
    "X_train1.shape,X_val1.shape,X_test.shape"
   ]
  },
  {
   "cell_type": "code",
   "execution_count": 66,
   "id": "0bf7b057-3939-4be4-b9ac-72a13f45fb35",
   "metadata": {},
   "outputs": [],
   "source": [
    "X_train1.drop(columns='index',inplace=True)\n",
    "X_val1.drop(columns='index',inplace=True)"
   ]
  },
  {
   "cell_type": "code",
   "execution_count": 67,
   "id": "3e415662-925c-4566-b16c-71bd4808c90b",
   "metadata": {},
   "outputs": [],
   "source": [
    "from sklearn.preprocessing import MinMaxScaler\n",
    "min_max=MinMaxScaler()\n",
    "X2=min_max.fit_transform(X_train1)"
   ]
  },
  {
   "cell_type": "code",
   "execution_count": 68,
   "id": "ddc8fff8-7cb7-4b43-976e-bd00f01b1259",
   "metadata": {},
   "outputs": [],
   "source": [
    "# normalised minmax\n",
    "X2=pd.DataFrame(X2,columns=X_train1.columns)"
   ]
  },
  {
   "cell_type": "code",
   "execution_count": 69,
   "id": "9382ceb5-dd07-4b08-a963-da9f18a9b614",
   "metadata": {},
   "outputs": [],
   "source": [
    "#normalised val1\n",
    "X2_val=min_max.transform(X_val1)\n",
    "X2_val=pd.DataFrame(X2_val,columns=X_val1.columns)"
   ]
  },
  {
   "cell_type": "code",
   "execution_count": 70,
   "id": "26e1e521-f70e-42e0-8d3b-3a1130f8f37a",
   "metadata": {},
   "outputs": [],
   "source": [
    "#normalised test\n",
    "X2_test=min_max.transform(X_test)\n",
    "X2_test=pd.DataFrame(X2_test,columns=X_test.columns)"
   ]
  },
  {
   "cell_type": "code",
   "execution_count": 71,
   "id": "b4cac505-a772-4797-a8b3-6e93e48bb26f",
   "metadata": {},
   "outputs": [],
   "source": [
    "# enoding the target variables1\n",
    "lab_enc1=LabelEncoder()\n",
    "y1_en=lab_enc1.fit_transform(y_train1)\n",
    "y1_en_val=lab_enc1.transform(y_val1)"
   ]
  },
  {
   "cell_type": "code",
   "execution_count": 72,
   "id": "3401c6b9-dc25-4c88-a3df-e033bd73e1f1",
   "metadata": {},
   "outputs": [
    {
     "data": {
      "text/plain": [
       "(array([0, 1, 2]), array([0, 1, 2]))"
      ]
     },
     "execution_count": 72,
     "metadata": {},
     "output_type": "execute_result"
    }
   ],
   "source": [
    "# printing encoded targets\n",
    "np.unique(y1_en),np.unique(y1_en_val)"
   ]
  },
  {
   "cell_type": "code",
   "execution_count": 73,
   "id": "ccfdd4d2-cbdd-4c2f-9632-a4a9b6160d54",
   "metadata": {},
   "outputs": [],
   "source": [
    "# enoding the target variables2\n",
    "lab_enc2=LabelEncoder()\n",
    "y2_en=lab_enc2.fit_transform(y_train2)\n",
    "y2_en_val=lab_enc2.transform(y_val2)"
   ]
  },
  {
   "cell_type": "code",
   "execution_count": 74,
   "id": "27b1987c-1146-4222-94fe-ef6ffb29c613",
   "metadata": {},
   "outputs": [
    {
     "data": {
      "text/plain": [
       "(array([0, 1, 2, 3, 4, 5, 6, 7, 8]), array([0, 1, 2, 3, 4, 5, 6, 7, 8]))"
      ]
     },
     "execution_count": 74,
     "metadata": {},
     "output_type": "execute_result"
    }
   ],
   "source": [
    "# printing encoded targets\n",
    "np.unique(y2_en),np.unique(y2_en_val)"
   ]
  },
  {
   "cell_type": "code",
   "execution_count": 75,
   "id": "7085b6da-b0fc-4f2d-927e-9414528ad8ed",
   "metadata": {},
   "outputs": [
    {
     "name": "stdout",
     "output_type": "stream",
     "text": [
      "shape of X before SMOTE: (13728, 48) \n",
      "shape of X after SMOTE: (21039, 48)\n",
      "balanced class (%):\n"
     ]
    },
    {
     "data": {
      "text/plain": [
       "0    33.333333\n",
       "1    33.333333\n",
       "2    33.333333\n",
       "dtype: float64"
      ]
     },
     "execution_count": 75,
     "metadata": {},
     "output_type": "execute_result"
    }
   ],
   "source": [
    "from imblearn.over_sampling import BorderlineSMOTE\n",
    "sm = BorderlineSMOTE(random_state=42)\n",
    "X_sm, y_sm = sm.fit_resample(X2, pd.DataFrame(y1_en))\n",
    "print(f'''shape of X before SMOTE: {X2.shape} \n",
    "shape of X after SMOTE: {X_sm.shape}''')\n",
    "print('balanced class (%):')\n",
    "y_sm.value_counts(normalize=True) * 100"
   ]
  },
  {
   "cell_type": "code",
   "execution_count": 76,
   "id": "7c95dd43-4ab0-4892-b78f-46001d5e5f4a",
   "metadata": {},
   "outputs": [
    {
     "data": {
      "text/html": [
       "<div>\n",
       "<style scoped>\n",
       "    .dataframe tbody tr th:only-of-type {\n",
       "        vertical-align: middle;\n",
       "    }\n",
       "\n",
       "    .dataframe tbody tr th {\n",
       "        vertical-align: top;\n",
       "    }\n",
       "\n",
       "    .dataframe thead th {\n",
       "        text-align: right;\n",
       "    }\n",
       "</style>\n",
       "<table border=\"1\" class=\"dataframe\">\n",
       "  <thead>\n",
       "    <tr style=\"text-align: right;\">\n",
       "      <th></th>\n",
       "      <th>patient_age</th>\n",
       "      <th>defective_mother</th>\n",
       "      <th>defective_father</th>\n",
       "      <th>maternal_gene</th>\n",
       "      <th>paternal_gene</th>\n",
       "      <th>blood_cell_count</th>\n",
       "      <th>mother_age</th>\n",
       "      <th>father_age</th>\n",
       "      <th>Status</th>\n",
       "      <th>respiratory_rate</th>\n",
       "      <th>...</th>\n",
       "      <th>radiation_exposure_Yes</th>\n",
       "      <th>radiation_exposure_others</th>\n",
       "      <th>substance_abuse_No</th>\n",
       "      <th>substance_abuse_Not applicable</th>\n",
       "      <th>substance_abuse_Yes</th>\n",
       "      <th>substance_abuse_others</th>\n",
       "      <th>blood_test_result_abnormal</th>\n",
       "      <th>blood_test_result_inconclusive</th>\n",
       "      <th>blood_test_result_normal</th>\n",
       "      <th>blood_test_result_slightly abnormal</th>\n",
       "    </tr>\n",
       "  </thead>\n",
       "  <tbody>\n",
       "    <tr>\n",
       "      <th>0</th>\n",
       "      <td>0.214286</td>\n",
       "      <td>0.0</td>\n",
       "      <td>0.0</td>\n",
       "      <td>0.0</td>\n",
       "      <td>0.0</td>\n",
       "      <td>0.397625</td>\n",
       "      <td>0.515152</td>\n",
       "      <td>0.977273</td>\n",
       "      <td>1.0</td>\n",
       "      <td>0.0</td>\n",
       "      <td>...</td>\n",
       "      <td>0.0</td>\n",
       "      <td>0.0</td>\n",
       "      <td>1.0</td>\n",
       "      <td>0.0</td>\n",
       "      <td>0.0</td>\n",
       "      <td>0.0</td>\n",
       "      <td>1.0</td>\n",
       "      <td>0.0</td>\n",
       "      <td>0.0</td>\n",
       "      <td>0.0</td>\n",
       "    </tr>\n",
       "    <tr>\n",
       "      <th>1</th>\n",
       "      <td>0.000000</td>\n",
       "      <td>1.0</td>\n",
       "      <td>0.0</td>\n",
       "      <td>1.0</td>\n",
       "      <td>0.0</td>\n",
       "      <td>0.122969</td>\n",
       "      <td>0.939394</td>\n",
       "      <td>0.545455</td>\n",
       "      <td>0.0</td>\n",
       "      <td>1.0</td>\n",
       "      <td>...</td>\n",
       "      <td>0.0</td>\n",
       "      <td>0.0</td>\n",
       "      <td>1.0</td>\n",
       "      <td>0.0</td>\n",
       "      <td>0.0</td>\n",
       "      <td>0.0</td>\n",
       "      <td>0.0</td>\n",
       "      <td>0.0</td>\n",
       "      <td>0.0</td>\n",
       "      <td>1.0</td>\n",
       "    </tr>\n",
       "  </tbody>\n",
       "</table>\n",
       "<p>2 rows × 48 columns</p>\n",
       "</div>"
      ],
      "text/plain": [
       "   patient_age  defective_mother  defective_father  maternal_gene  \\\n",
       "0     0.214286               0.0               0.0            0.0   \n",
       "1     0.000000               1.0               0.0            1.0   \n",
       "\n",
       "   paternal_gene  blood_cell_count  mother_age  father_age  Status  \\\n",
       "0            0.0          0.397625    0.515152    0.977273     1.0   \n",
       "1            0.0          0.122969    0.939394    0.545455     0.0   \n",
       "\n",
       "   respiratory_rate  ...  radiation_exposure_Yes  radiation_exposure_others  \\\n",
       "0               0.0  ...                     0.0                        0.0   \n",
       "1               1.0  ...                     0.0                        0.0   \n",
       "\n",
       "   substance_abuse_No  substance_abuse_Not applicable  substance_abuse_Yes  \\\n",
       "0                 1.0                             0.0                  0.0   \n",
       "1                 1.0                             0.0                  0.0   \n",
       "\n",
       "   substance_abuse_others  blood_test_result_abnormal  \\\n",
       "0                     0.0                         1.0   \n",
       "1                     0.0                         0.0   \n",
       "\n",
       "   blood_test_result_inconclusive  blood_test_result_normal  \\\n",
       "0                             0.0                       0.0   \n",
       "1                             0.0                       0.0   \n",
       "\n",
       "   blood_test_result_slightly abnormal  \n",
       "0                                  0.0  \n",
       "1                                  1.0  \n",
       "\n",
       "[2 rows x 48 columns]"
      ]
     },
     "execution_count": 76,
     "metadata": {},
     "output_type": "execute_result"
    }
   ],
   "source": [
    "X_sm.head(2)"
   ]
  },
  {
   "cell_type": "code",
   "execution_count": 77,
   "id": "a81c6bfa-a8e9-4d78-a9e0-af05fe336d63",
   "metadata": {},
   "outputs": [],
   "source": [
    "y1_enco=np.array(y_sm).ravel()"
   ]
  },
  {
   "cell_type": "code",
   "execution_count": 78,
   "id": "e22e373e-c724-4df7-b916-28d003134294",
   "metadata": {},
   "outputs": [],
   "source": [
    "from sklearn.feature_selection import SelectKBest,chi2"
   ]
  },
  {
   "cell_type": "code",
   "execution_count": 79,
   "id": "d6d495d0-d29a-49ad-9601-5e6b66c5bd38",
   "metadata": {},
   "outputs": [],
   "source": [
    "sel1=SelectKBest(chi2, k=25).fit(X_sm,y1_enco)"
   ]
  },
  {
   "cell_type": "code",
   "execution_count": 80,
   "id": "760db702-a7d1-4a55-8345-f6bc7834bdde",
   "metadata": {},
   "outputs": [
    {
     "name": "stdout",
     "output_type": "stream",
     "text": [
      "(21039, 25)\n"
     ]
    }
   ],
   "source": [
    "cols=sel1.get_support(indices=True)\n",
    "print(X_sm.iloc[:,cols].shape)\n",
    "result_kbest_20=X_sm.iloc[:,cols]"
   ]
  },
  {
   "cell_type": "code",
   "execution_count": 81,
   "id": "7cb9eb29-647a-4169-83a6-47c599366ccd",
   "metadata": {},
   "outputs": [
    {
     "name": "stdout",
     "output_type": "stream",
     "text": [
      "Index(['defective_mother', 'defective_father', 'maternal_gene',\n",
      "       'paternal_gene', 'respiratory_rate', 'folic_acid_periconceptional',\n",
      "       'previous_pregnancy_anomalies', 'birth_defects', 'Symptom 1',\n",
      "       'Symptom 2', 'Symptom 3', 'Symptom 4', 'Symptom 5', 'birth_asphyxia_No',\n",
      "       'birth_asphyxia_Not available', 'radiation_exposure_No',\n",
      "       'radiation_exposure_Not applicable', 'radiation_exposure_Yes',\n",
      "       'radiation_exposure_others', 'substance_abuse_Yes',\n",
      "       'substance_abuse_others', 'blood_test_result_abnormal',\n",
      "       'blood_test_result_inconclusive', 'blood_test_result_normal',\n",
      "       'blood_test_result_slightly abnormal'],\n",
      "      dtype='object')\n"
     ]
    }
   ],
   "source": [
    "sele_fea= X2.columns[(sel1.get_support())]\n",
    "print(sele_fea)"
   ]
  },
  {
   "cell_type": "code",
   "execution_count": 82,
   "id": "99b5e821-fe25-40cb-b284-74e29833147b",
   "metadata": {},
   "outputs": [
    {
     "name": "stdout",
     "output_type": "stream",
     "text": [
      "(3432, 25)\n"
     ]
    }
   ],
   "source": [
    "print(X2_val.iloc[:,cols].shape)\n",
    "result_kbest_val=X2_val.iloc[:,cols]"
   ]
  },
  {
   "cell_type": "code",
   "execution_count": 83,
   "id": "c0e167dd-a8a8-4335-95da-9964af2a9a40",
   "metadata": {},
   "outputs": [
    {
     "name": "stdout",
     "output_type": "stream",
     "text": [
      "(9290, 25)\n"
     ]
    }
   ],
   "source": [
    "print(X2_test.iloc[:,cols].shape)\n",
    "result_kbest_test20=X2_test.iloc[:,cols]"
   ]
  },
  {
   "cell_type": "code",
   "execution_count": 84,
   "id": "f78c2380-4849-4ffe-a0e2-eab6ead40771",
   "metadata": {},
   "outputs": [],
   "source": [
    "from sklearn.metrics import f1_score"
   ]
  },
  {
   "cell_type": "code",
   "execution_count": 89,
   "id": "ba3e4c25-9481-4dc5-bff0-f769173f72a5",
   "metadata": {},
   "outputs": [],
   "source": [
    "from sklearn.neighbors import KNeighborsClassifier \n",
    "from sklearn.calibration import CalibratedClassifierCV"
   ]
  },
  {
   "cell_type": "code",
   "execution_count": 90,
   "id": "2adc922a-cfe9-4c78-b092-e813b10d50b7",
   "metadata": {},
   "outputs": [
    {
     "name": "stdout",
     "output_type": "stream",
     "text": [
      "f1_macro for k =  1 is 0.42019325135450614\n",
      "f1_macro for k =  3 is 0.4410047942999114\n",
      "f1_macro for k =  5 is 0.45047046656662554\n",
      "f1_macro for k =  7 is 0.4484613021274511\n",
      "f1_macro for k =  9 is 0.4516197948458154\n",
      "f1_macro for k =  11 is 0.44417499990647036\n",
      "f1_macro for k =  13 is 0.4475909898675599\n",
      "For values of best nn =  9 The train f1_macro is: 0.7329063951674387\n",
      "For values of best nn =  9 The cross validation f1_macro is: 0.4516197948458154\n"
     ]
    }
   ],
   "source": [
    "nn=[x for x in range(1, 15, 2)]\n",
    "cv_f1_macro=[]\n",
    "for i in nn:\n",
    "    knn=KNeighborsClassifier(n_neighbors=i,n_jobs=-1)\n",
    "    knn.fit(result_kbest_20,y1_enco)\n",
    "    cal_clf = CalibratedClassifierCV(knn, method=\"sigmoid\")\n",
    "    cal_clf.fit(result_kbest_20,y1_enco)\n",
    "    predict_y=cal_clf.predict(result_kbest_val)\n",
    "    cv_f1_macro.append(f1_score(y1_en_val, predict_y,average='macro'))\n",
    "for i in range(len(cv_f1_macro)):\n",
    "    print ('f1_macro for k = ',nn[i],'is',cv_f1_macro[i])\n",
    "best_nn = np.argmax(cv_f1_macro)\n",
    "knn=KNeighborsClassifier(n_neighbors=nn[best_nn])\n",
    "knn.fit(result_kbest_20,y1_enco)\n",
    "cal_clf = CalibratedClassifierCV(knn, method=\"sigmoid\")\n",
    "cal_clf.fit(result_kbest_20,y1_enco)\n",
    "\n",
    "predict_y =cal_clf .predict(result_kbest_20)\n",
    "print ('For values of best nn = ', nn[best_nn], \"The train f1_macro is:\",f1_score(y1_enco, predict_y,average='macro'))\n",
    "predict_y = cal_clf.predict(result_kbest_val)\n",
    "print('For values of best nn = ', nn[best_nn], \"The cross validation f1_macro is:\",f1_score(y1_en_val, predict_y,average='macro'))"
   ]
  },
  {
   "cell_type": "code",
   "execution_count": 92,
   "id": "29c5d2db-9fbd-4695-9f6f-bfc6a1e6e754",
   "metadata": {},
   "outputs": [],
   "source": [
    "from sklearn.linear_model import LogisticRegression"
   ]
  },
  {
   "cell_type": "code",
   "execution_count": 93,
   "id": "b214079d-af40-475c-90e6-91651540d033",
   "metadata": {},
   "outputs": [
    {
     "name": "stdout",
     "output_type": "stream",
     "text": [
      "f1_macro for k =  1e-05 is 0.44069791215437387\n",
      "f1_macro for k =  0.0001 is 0.44109664991488623\n",
      "f1_macro for k =  0.001 is 0.44482978905100756\n",
      "f1_macro for k =  0.01 is 0.44506026294635354\n",
      "f1_macro for k =  0.1 is 0.44521704649796945\n",
      "f1_macro for k =  1 is 0.4451308756766846\n",
      "f1_macro for k =  10 is 0.44487371497665906\n",
      "f1_macro for k =  100 is 0.44487371497665906\n",
      "f1_macro for k =  1000 is 0.44487371497665906\n",
      "For values of best C =  0.1 The train f1_macro is: 0.5593068124249653\n",
      "For values of best C =  0.1 The cross validation f1_macro is: 0.44521704649796945\n"
     ]
    }
   ],
   "source": [
    "C1= [10 ** x for x in range(-5, 4)]\n",
    "cv_f1_macro=[]\n",
    "for i in C1:\n",
    "    logisticR=LogisticRegression(penalty='l2',C=i,class_weight='balanced')\n",
    "    logisticR.fit(result_kbest_20,y1_enco)\n",
    "    cal_clf = CalibratedClassifierCV(logisticR, method=\"sigmoid\")\n",
    "    cal_clf.fit(result_kbest_20,y1_enco)\n",
    "    predict_y=cal_clf.predict(result_kbest_val)\n",
    "    cv_f1_macro.append(f1_score(y1_en_val, predict_y,average='macro'))\n",
    "for i in range(len(cv_f1_macro)):\n",
    "    print ('f1_macro for k = ',C1[i],'is',cv_f1_macro[i])\n",
    "best_C1 = np.argmax(cv_f1_macro)\n",
    "logisticR=LogisticRegression(penalty='l2',C=C1[best_C1],class_weight='balanced')\n",
    "logisticR.fit(result_kbest_20,y1_enco)\n",
    "cal_clf = CalibratedClassifierCV(logisticR, method=\"sigmoid\")\n",
    "cal_clf.fit(result_kbest_20,y1_enco)\n",
    "\n",
    "predict_y =cal_clf .predict(result_kbest_20)\n",
    "print ('For values of best C = ',C1[best_C1], \"The train f1_macro is:\",f1_score(y1_enco, predict_y,average='macro'))\n",
    "predict_y = cal_clf.predict(result_kbest_val)\n",
    "print('For values of best C = ',C1[best_C1], \"The cross validation f1_macro is:\",f1_score(y1_en_val, predict_y,average='macro'))"
   ]
  },
  {
   "cell_type": "code",
   "execution_count": 97,
   "id": "16db4e78-1e9d-4920-b1e8-edc986a41442",
   "metadata": {},
   "outputs": [],
   "source": [
    "from sklearn.tree import DecisionTreeClassifier\n",
    "from sklearn.model_selection import RandomizedSearchCV,GridSearchCV\n"
   ]
  },
  {
   "cell_type": "code",
   "execution_count": 98,
   "id": "c5061870-3afe-4d79-a587-6a37a2269303",
   "metadata": {},
   "outputs": [
    {
     "name": "stdout",
     "output_type": "stream",
     "text": [
      "Fitting 5 folds for each of 10 candidates, totalling 50 fits\n"
     ]
    },
    {
     "name": "stderr",
     "output_type": "stream",
     "text": [
      "Intel(R) Extension for Scikit-learn* enabled (https://github.com/intel/scikit-learn-intelex)\n",
      "Intel(R) Extension for Scikit-learn* enabled (https://github.com/intel/scikit-learn-intelex)\n",
      "Intel(R) Extension for Scikit-learn* enabled (https://github.com/intel/scikit-learn-intelex)\n",
      "Intel(R) Extension for Scikit-learn* enabled (https://github.com/intel/scikit-learn-intelex)\n",
      "Intel(R) Extension for Scikit-learn* enabled (https://github.com/intel/scikit-learn-intelex)\n",
      "Intel(R) Extension for Scikit-learn* enabled (https://github.com/intel/scikit-learn-intelex)\n",
      "Intel(R) Extension for Scikit-learn* enabled (https://github.com/intel/scikit-learn-intelex)\n",
      "Intel(R) Extension for Scikit-learn* enabled (https://github.com/intel/scikit-learn-intelex)\n",
      "Intel(R) Extension for Scikit-learn* enabled (https://github.com/intel/scikit-learn-intelex)\n",
      "Intel(R) Extension for Scikit-learn* enabled (https://github.com/intel/scikit-learn-intelex)\n",
      "Intel(R) Extension for Scikit-learn* enabled (https://github.com/intel/scikit-learn-intelex)\n",
      "Intel(R) Extension for Scikit-learn* enabled (https://github.com/intel/scikit-learn-intelex)\n"
     ]
    },
    {
     "data": {
      "text/html": [
       "<style>#sk-container-id-1 {color: black;background-color: white;}#sk-container-id-1 pre{padding: 0;}#sk-container-id-1 div.sk-toggleable {background-color: white;}#sk-container-id-1 label.sk-toggleable__label {cursor: pointer;display: block;width: 100%;margin-bottom: 0;padding: 0.3em;box-sizing: border-box;text-align: center;}#sk-container-id-1 label.sk-toggleable__label-arrow:before {content: \"▸\";float: left;margin-right: 0.25em;color: #696969;}#sk-container-id-1 label.sk-toggleable__label-arrow:hover:before {color: black;}#sk-container-id-1 div.sk-estimator:hover label.sk-toggleable__label-arrow:before {color: black;}#sk-container-id-1 div.sk-toggleable__content {max-height: 0;max-width: 0;overflow: hidden;text-align: left;background-color: #f0f8ff;}#sk-container-id-1 div.sk-toggleable__content pre {margin: 0.2em;color: black;border-radius: 0.25em;background-color: #f0f8ff;}#sk-container-id-1 input.sk-toggleable__control:checked~div.sk-toggleable__content {max-height: 200px;max-width: 100%;overflow: auto;}#sk-container-id-1 input.sk-toggleable__control:checked~label.sk-toggleable__label-arrow:before {content: \"▾\";}#sk-container-id-1 div.sk-estimator input.sk-toggleable__control:checked~label.sk-toggleable__label {background-color: #d4ebff;}#sk-container-id-1 div.sk-label input.sk-toggleable__control:checked~label.sk-toggleable__label {background-color: #d4ebff;}#sk-container-id-1 input.sk-hidden--visually {border: 0;clip: rect(1px 1px 1px 1px);clip: rect(1px, 1px, 1px, 1px);height: 1px;margin: -1px;overflow: hidden;padding: 0;position: absolute;width: 1px;}#sk-container-id-1 div.sk-estimator {font-family: monospace;background-color: #f0f8ff;border: 1px dotted black;border-radius: 0.25em;box-sizing: border-box;margin-bottom: 0.5em;}#sk-container-id-1 div.sk-estimator:hover {background-color: #d4ebff;}#sk-container-id-1 div.sk-parallel-item::after {content: \"\";width: 100%;border-bottom: 1px solid gray;flex-grow: 1;}#sk-container-id-1 div.sk-label:hover label.sk-toggleable__label {background-color: #d4ebff;}#sk-container-id-1 div.sk-serial::before {content: \"\";position: absolute;border-left: 1px solid gray;box-sizing: border-box;top: 0;bottom: 0;left: 50%;z-index: 0;}#sk-container-id-1 div.sk-serial {display: flex;flex-direction: column;align-items: center;background-color: white;padding-right: 0.2em;padding-left: 0.2em;position: relative;}#sk-container-id-1 div.sk-item {position: relative;z-index: 1;}#sk-container-id-1 div.sk-parallel {display: flex;align-items: stretch;justify-content: center;background-color: white;position: relative;}#sk-container-id-1 div.sk-item::before, #sk-container-id-1 div.sk-parallel-item::before {content: \"\";position: absolute;border-left: 1px solid gray;box-sizing: border-box;top: 0;bottom: 0;left: 50%;z-index: -1;}#sk-container-id-1 div.sk-parallel-item {display: flex;flex-direction: column;z-index: 1;position: relative;background-color: white;}#sk-container-id-1 div.sk-parallel-item:first-child::after {align-self: flex-end;width: 50%;}#sk-container-id-1 div.sk-parallel-item:last-child::after {align-self: flex-start;width: 50%;}#sk-container-id-1 div.sk-parallel-item:only-child::after {width: 0;}#sk-container-id-1 div.sk-dashed-wrapped {border: 1px dashed gray;margin: 0 0.4em 0.5em 0.4em;box-sizing: border-box;padding-bottom: 0.4em;background-color: white;}#sk-container-id-1 div.sk-label label {font-family: monospace;font-weight: bold;display: inline-block;line-height: 1.2em;}#sk-container-id-1 div.sk-label-container {text-align: center;}#sk-container-id-1 div.sk-container {/* jupyter's `normalize.less` sets `[hidden] { display: none; }` but bootstrap.min.css set `[hidden] { display: none !important; }` so we also need the `!important` here to be able to override the default hidden behavior on the sphinx rendered scikit-learn.org. See: https://github.com/scikit-learn/scikit-learn/issues/21755 */display: inline-block !important;position: relative;}#sk-container-id-1 div.sk-text-repr-fallback {display: none;}</style><div id=\"sk-container-id-1\" class=\"sk-top-container\"><div class=\"sk-text-repr-fallback\"><pre>RandomizedSearchCV(estimator=DecisionTreeClassifier(random_state=42), n_jobs=-1,\n",
       "                   param_distributions={&#x27;criterion&#x27;: [&#x27;gini&#x27;, &#x27;entropy&#x27;],\n",
       "                                        &#x27;max_depth&#x27;: [2, 3, 5, 10, 20],\n",
       "                                        &#x27;min_samples_leaf&#x27;: [5, 10, 20, 50,\n",
       "                                                             100]},\n",
       "                   random_state=42, verbose=10)</pre><b>In a Jupyter environment, please rerun this cell to show the HTML representation or trust the notebook. <br />On GitHub, the HTML representation is unable to render, please try loading this page with nbviewer.org.</b></div><div class=\"sk-container\" hidden><div class=\"sk-item sk-dashed-wrapped\"><div class=\"sk-label-container\"><div class=\"sk-label sk-toggleable\"><input class=\"sk-toggleable__control sk-hidden--visually\" id=\"sk-estimator-id-1\" type=\"checkbox\" ><label for=\"sk-estimator-id-1\" class=\"sk-toggleable__label sk-toggleable__label-arrow\">RandomizedSearchCV</label><div class=\"sk-toggleable__content\"><pre>RandomizedSearchCV(estimator=DecisionTreeClassifier(random_state=42), n_jobs=-1,\n",
       "                   param_distributions={&#x27;criterion&#x27;: [&#x27;gini&#x27;, &#x27;entropy&#x27;],\n",
       "                                        &#x27;max_depth&#x27;: [2, 3, 5, 10, 20],\n",
       "                                        &#x27;min_samples_leaf&#x27;: [5, 10, 20, 50,\n",
       "                                                             100]},\n",
       "                   random_state=42, verbose=10)</pre></div></div></div><div class=\"sk-parallel\"><div class=\"sk-parallel-item\"><div class=\"sk-item\"><div class=\"sk-label-container\"><div class=\"sk-label sk-toggleable\"><input class=\"sk-toggleable__control sk-hidden--visually\" id=\"sk-estimator-id-2\" type=\"checkbox\" ><label for=\"sk-estimator-id-2\" class=\"sk-toggleable__label sk-toggleable__label-arrow\">estimator: DecisionTreeClassifier</label><div class=\"sk-toggleable__content\"><pre>DecisionTreeClassifier(random_state=42)</pre></div></div></div><div class=\"sk-serial\"><div class=\"sk-item\"><div class=\"sk-estimator sk-toggleable\"><input class=\"sk-toggleable__control sk-hidden--visually\" id=\"sk-estimator-id-3\" type=\"checkbox\" ><label for=\"sk-estimator-id-3\" class=\"sk-toggleable__label sk-toggleable__label-arrow\">DecisionTreeClassifier</label><div class=\"sk-toggleable__content\"><pre>DecisionTreeClassifier(random_state=42)</pre></div></div></div></div></div></div></div></div></div></div>"
      ],
      "text/plain": [
       "RandomizedSearchCV(estimator=DecisionTreeClassifier(random_state=42), n_jobs=-1,\n",
       "                   param_distributions={'criterion': ['gini', 'entropy'],\n",
       "                                        'max_depth': [2, 3, 5, 10, 20],\n",
       "                                        'min_samples_leaf': [5, 10, 20, 50,\n",
       "                                                             100]},\n",
       "                   random_state=42, verbose=10)"
      ]
     },
     "execution_count": 98,
     "metadata": {},
     "output_type": "execute_result"
    }
   ],
   "source": [
    "DT = DecisionTreeClassifier(random_state=42)\n",
    "params = {\n",
    "    'max_depth': [2, 3, 5, 10, 20],\n",
    "    'min_samples_leaf': [5, 10, 20, 50, 100],\n",
    "    'criterion': [\"gini\", \"entropy\"]\n",
    "}\n",
    "random_dt=RandomizedSearchCV(DT,param_distributions=params,verbose=10,n_jobs=-1,random_state=42)\n",
    "random_dt.fit(result_kbest_20,y1_enco)"
   ]
  },
  {
   "cell_type": "code",
   "execution_count": 99,
   "id": "97da0d51-c4cc-41d0-b1f4-d8ae1c2161b3",
   "metadata": {},
   "outputs": [
    {
     "name": "stdout",
     "output_type": "stream",
     "text": [
      "DecisionTreeClassifier(max_depth=10, min_samples_leaf=20, random_state=42)\n"
     ]
    }
   ],
   "source": [
    "print(random_dt.best_estimator_)"
   ]
  },
  {
   "cell_type": "code",
   "execution_count": 100,
   "id": "80dd55a7-f85d-4bbb-8fa1-a2bc781b7c60",
   "metadata": {},
   "outputs": [
    {
     "name": "stdout",
     "output_type": "stream",
     "text": [
      "0.659110122003794\n"
     ]
    }
   ],
   "source": [
    "print(random_dt.best_score_)"
   ]
  },
  {
   "cell_type": "code",
   "execution_count": 101,
   "id": "c5036bf1-915d-4dce-86fe-644f3181d620",
   "metadata": {},
   "outputs": [
    {
     "name": "stdout",
     "output_type": "stream",
     "text": [
      "The train f1_macro is: 0.6974982730373046\n",
      "The cross validation f1_macro is: 0.5297498918779687\n"
     ]
    }
   ],
   "source": [
    "DT = DecisionTreeClassifier(max_depth=20,min_samples_leaf=50,random_state=42)\n",
    "DT.fit(result_kbest_20,y1_enco)\n",
    "cal_clf = CalibratedClassifierCV(DT, method=\"sigmoid\")\n",
    "cal_clf.fit(result_kbest_20,y1_enco)\n",
    "predict_y =cal_clf .predict(result_kbest_20)\n",
    "print ('The train f1_macro is:',f1_score(y1_enco, predict_y,average='macro'))\n",
    "predict_y = cal_clf.predict(result_kbest_val)\n",
    "print('The cross validation f1_macro is:',f1_score(y1_en_val, predict_y,average='macro'))"
   ]
  },
  {
   "cell_type": "code",
   "execution_count": 103,
   "id": "42c7cab6-f450-4f36-a2ce-95688cd6e582",
   "metadata": {},
   "outputs": [],
   "source": [
    "from sklearn.ensemble import RandomForestClassifier,GradientBoostingClassifier"
   ]
  },
  {
   "cell_type": "code",
   "execution_count": 104,
   "id": "129facf4-9fc3-44c0-ad91-35f5be42b4da",
   "metadata": {},
   "outputs": [
    {
     "name": "stdout",
     "output_type": "stream",
     "text": [
      "Fitting 5 folds for each of 10 candidates, totalling 50 fits\n"
     ]
    },
    {
     "name": "stderr",
     "output_type": "stream",
     "text": [
      "Intel(R) Extension for Scikit-learn* enabled (https://github.com/intel/scikit-learn-intelex)\n",
      "Intel(R) Extension for Scikit-learn* enabled (https://github.com/intel/scikit-learn-intelex)\n",
      "Intel(R) Extension for Scikit-learn* enabled (https://github.com/intel/scikit-learn-intelex)\n",
      "Intel(R) Extension for Scikit-learn* enabled (https://github.com/intel/scikit-learn-intelex)\n",
      "Intel(R) Extension for Scikit-learn* enabled (https://github.com/intel/scikit-learn-intelex)\n",
      "Intel(R) Extension for Scikit-learn* enabled (https://github.com/intel/scikit-learn-intelex)\n",
      "Intel(R) Extension for Scikit-learn* enabled (https://github.com/intel/scikit-learn-intelex)\n",
      "Intel(R) Extension for Scikit-learn* enabled (https://github.com/intel/scikit-learn-intelex)\n",
      "Intel(R) Extension for Scikit-learn* enabled (https://github.com/intel/scikit-learn-intelex)\n",
      "Intel(R) Extension for Scikit-learn* enabled (https://github.com/intel/scikit-learn-intelex)\n",
      "Intel(R) Extension for Scikit-learn* enabled (https://github.com/intel/scikit-learn-intelex)\n",
      "Intel(R) Extension for Scikit-learn* enabled (https://github.com/intel/scikit-learn-intelex)\n"
     ]
    },
    {
     "name": "stdout",
     "output_type": "stream",
     "text": [
      "[CV 4/5; 2/10] START bootstrap=False, max_depth=50, max_features=auto, min_samples_leaf=1, min_samples_split=10, n_estimators=1200\n",
      "[CV 4/5; 2/10] END bootstrap=False, max_depth=50, max_features=auto, min_samples_leaf=1, min_samples_split=10, n_estimators=1200;, score=0.750 total time=  29.9s\n",
      "[CV 1/5; 4/10] START bootstrap=False, max_depth=30, max_features=sqrt, min_samples_leaf=4, min_samples_split=10, n_estimators=1800\n",
      "[CV 1/5; 4/10] END bootstrap=False, max_depth=30, max_features=sqrt, min_samples_leaf=4, min_samples_split=10, n_estimators=1800;, score=0.543 total time=  32.8s\n",
      "[CV 1/5; 3/10] START bootstrap=True, max_depth=60, max_features=sqrt, min_samples_leaf=4, min_samples_split=10, n_estimators=1400\n",
      "[CV 1/5; 3/10] END bootstrap=True, max_depth=60, max_features=sqrt, min_samples_leaf=4, min_samples_split=10, n_estimators=1400;, score=0.548 total time=  30.2s\n",
      "[CV 3/5; 4/10] START bootstrap=False, max_depth=30, max_features=sqrt, min_samples_leaf=4, min_samples_split=10, n_estimators=1800\n",
      "[CV 3/5; 4/10] END bootstrap=False, max_depth=30, max_features=sqrt, min_samples_leaf=4, min_samples_split=10, n_estimators=1800;, score=0.732 total time=  34.0s\n",
      "[CV 2/5; 3/10] START bootstrap=True, max_depth=60, max_features=sqrt, min_samples_leaf=4, min_samples_split=10, n_estimators=1400\n",
      "[CV 2/5; 3/10] END bootstrap=True, max_depth=60, max_features=sqrt, min_samples_leaf=4, min_samples_split=10, n_estimators=1400;, score=0.722 total time=  30.5s\n",
      "[CV 4/5; 4/10] START bootstrap=False, max_depth=30, max_features=sqrt, min_samples_leaf=4, min_samples_split=10, n_estimators=1800\n",
      "[CV 4/5; 4/10] END bootstrap=False, max_depth=30, max_features=sqrt, min_samples_leaf=4, min_samples_split=10, n_estimators=1800;, score=0.748 total time=  34.3s\n"
     ]
    },
    {
     "name": "stderr",
     "output_type": "stream",
     "text": [
      "Intel(R) Extension for Scikit-learn* enabled (https://github.com/intel/scikit-learn-intelex)\n",
      "Intel(R) Extension for Scikit-learn* enabled (https://github.com/intel/scikit-learn-intelex)\n",
      "Intel(R) Extension for Scikit-learn* enabled (https://github.com/intel/scikit-learn-intelex)\n"
     ]
    },
    {
     "name": "stdout",
     "output_type": "stream",
     "text": [
      "[CV 5/5; 2/10] START bootstrap=False, max_depth=50, max_features=auto, min_samples_leaf=1, min_samples_split=10, n_estimators=1200\n",
      "[CV 5/5; 2/10] END bootstrap=False, max_depth=50, max_features=auto, min_samples_leaf=1, min_samples_split=10, n_estimators=1200;, score=0.755 total time=  30.0s\n",
      "[CV 5/5; 3/10] START bootstrap=True, max_depth=60, max_features=sqrt, min_samples_leaf=4, min_samples_split=10, n_estimators=1400\n",
      "[CV 5/5; 3/10] END bootstrap=True, max_depth=60, max_features=sqrt, min_samples_leaf=4, min_samples_split=10, n_estimators=1400;, score=0.744 total time=  27.8s\n",
      "[CV 1/5; 6/10] START bootstrap=False, max_depth=20, max_features=sqrt, min_samples_leaf=1, min_samples_split=5, n_estimators=2000\n",
      "[CV 1/5; 6/10] END bootstrap=False, max_depth=20, max_features=sqrt, min_samples_leaf=1, min_samples_split=5, n_estimators=2000;, score=0.527 total time=  51.4s\n",
      "[CV 3/5; 2/10] START bootstrap=False, max_depth=50, max_features=auto, min_samples_leaf=1, min_samples_split=10, n_estimators=1200\n",
      "[CV 3/5; 2/10] END bootstrap=False, max_depth=50, max_features=auto, min_samples_leaf=1, min_samples_split=10, n_estimators=1200;, score=0.731 total time=  30.0s\n",
      "[CV 4/5; 3/10] START bootstrap=True, max_depth=60, max_features=sqrt, min_samples_leaf=4, min_samples_split=10, n_estimators=1400\n",
      "[CV 4/5; 3/10] END bootstrap=True, max_depth=60, max_features=sqrt, min_samples_leaf=4, min_samples_split=10, n_estimators=1400;, score=0.742 total time=  27.3s\n",
      "[CV 5/5; 5/10] START bootstrap=False, max_depth=20, max_features=sqrt, min_samples_leaf=4, min_samples_split=2, n_estimators=1000\n",
      "[CV 5/5; 5/10] END bootstrap=False, max_depth=20, max_features=sqrt, min_samples_leaf=4, min_samples_split=2, n_estimators=1000;, score=0.747 total time=  19.2s\n",
      "[CV 1/5; 8/10] START bootstrap=False, max_depth=20, max_features=auto, min_samples_leaf=2, min_samples_split=5, n_estimators=1400\n",
      "[CV 1/5; 8/10] END bootstrap=False, max_depth=20, max_features=auto, min_samples_leaf=2, min_samples_split=5, n_estimators=1400;, score=0.536 total time=  34.0s\n",
      "[CV 1/5; 2/10] START bootstrap=False, max_depth=50, max_features=auto, min_samples_leaf=1, min_samples_split=10, n_estimators=1200\n",
      "[CV 1/5; 2/10] END bootstrap=False, max_depth=50, max_features=auto, min_samples_leaf=1, min_samples_split=10, n_estimators=1200;, score=0.537 total time=  30.0s\n",
      "[CV 3/5; 3/10] START bootstrap=True, max_depth=60, max_features=sqrt, min_samples_leaf=4, min_samples_split=10, n_estimators=1400\n",
      "[CV 3/5; 3/10] END bootstrap=True, max_depth=60, max_features=sqrt, min_samples_leaf=4, min_samples_split=10, n_estimators=1400;, score=0.728 total time=  28.4s\n",
      "[CV 2/5; 6/10] START bootstrap=False, max_depth=20, max_features=sqrt, min_samples_leaf=1, min_samples_split=5, n_estimators=2000\n",
      "[CV 2/5; 6/10] END bootstrap=False, max_depth=20, max_features=sqrt, min_samples_leaf=1, min_samples_split=5, n_estimators=2000;, score=0.721 total time=  54.8s\n",
      "[CV 3/5; 1/10] START bootstrap=False, max_depth=20, max_features=sqrt, min_samples_leaf=2, min_samples_split=10, n_estimators=1800\n",
      "[CV 3/5; 1/10] END bootstrap=False, max_depth=20, max_features=sqrt, min_samples_leaf=2, min_samples_split=10, n_estimators=1800;, score=0.729 total time=  42.5s\n",
      "[CV 3/5; 5/10] START bootstrap=False, max_depth=20, max_features=sqrt, min_samples_leaf=4, min_samples_split=2, n_estimators=1000\n",
      "[CV 3/5; 5/10] END bootstrap=False, max_depth=20, max_features=sqrt, min_samples_leaf=4, min_samples_split=2, n_estimators=1000;, score=0.730 total time=  18.7s\n",
      "[CV 5/5; 6/10] START bootstrap=False, max_depth=20, max_features=sqrt, min_samples_leaf=1, min_samples_split=5, n_estimators=2000\n",
      "[CV 5/5; 6/10] END bootstrap=False, max_depth=20, max_features=sqrt, min_samples_leaf=1, min_samples_split=5, n_estimators=2000;, score=0.762 total time=  52.2s\n",
      "[CV 4/5; 1/10] START bootstrap=False, max_depth=20, max_features=sqrt, min_samples_leaf=2, min_samples_split=10, n_estimators=1800\n",
      "[CV 4/5; 1/10] END bootstrap=False, max_depth=20, max_features=sqrt, min_samples_leaf=2, min_samples_split=10, n_estimators=1800;, score=0.748 total time=  40.6s\n",
      "[CV 2/5; 5/10] START bootstrap=False, max_depth=20, max_features=sqrt, min_samples_leaf=4, min_samples_split=2, n_estimators=1000\n",
      "[CV 2/5; 5/10] END bootstrap=False, max_depth=20, max_features=sqrt, min_samples_leaf=4, min_samples_split=2, n_estimators=1000;, score=0.726 total time=  19.5s\n",
      "[CV 4/5; 6/10] START bootstrap=False, max_depth=20, max_features=sqrt, min_samples_leaf=1, min_samples_split=5, n_estimators=2000\n",
      "[CV 4/5; 6/10] END bootstrap=False, max_depth=20, max_features=sqrt, min_samples_leaf=1, min_samples_split=5, n_estimators=2000;, score=0.750 total time=  54.4s\n",
      "[CV 2/5; 1/10] START bootstrap=False, max_depth=20, max_features=sqrt, min_samples_leaf=2, min_samples_split=10, n_estimators=1800\n",
      "[CV 2/5; 1/10] END bootstrap=False, max_depth=20, max_features=sqrt, min_samples_leaf=2, min_samples_split=10, n_estimators=1800;, score=0.726 total time=  40.5s\n",
      "[CV 1/5; 5/10] START bootstrap=False, max_depth=20, max_features=sqrt, min_samples_leaf=4, min_samples_split=2, n_estimators=1000\n",
      "[CV 1/5; 5/10] END bootstrap=False, max_depth=20, max_features=sqrt, min_samples_leaf=4, min_samples_split=2, n_estimators=1000;, score=0.545 total time=  19.7s\n",
      "[CV 3/5; 6/10] START bootstrap=False, max_depth=20, max_features=sqrt, min_samples_leaf=1, min_samples_split=5, n_estimators=2000\n",
      "[CV 3/5; 6/10] END bootstrap=False, max_depth=20, max_features=sqrt, min_samples_leaf=1, min_samples_split=5, n_estimators=2000;, score=0.725 total time=  54.5s\n"
     ]
    },
    {
     "name": "stderr",
     "output_type": "stream",
     "text": [
      "Intel(R) Extension for Scikit-learn* enabled (https://github.com/intel/scikit-learn-intelex)\n"
     ]
    },
    {
     "name": "stdout",
     "output_type": "stream",
     "text": [
      "[CV 1/5; 1/10] START bootstrap=False, max_depth=20, max_features=sqrt, min_samples_leaf=2, min_samples_split=10, n_estimators=1800\n",
      "[CV 1/5; 1/10] END bootstrap=False, max_depth=20, max_features=sqrt, min_samples_leaf=2, min_samples_split=10, n_estimators=1800;, score=0.536 total time=  42.9s\n",
      "[CV 4/5; 5/10] START bootstrap=False, max_depth=20, max_features=sqrt, min_samples_leaf=4, min_samples_split=2, n_estimators=1000\n",
      "[CV 4/5; 5/10] END bootstrap=False, max_depth=20, max_features=sqrt, min_samples_leaf=4, min_samples_split=2, n_estimators=1000;, score=0.745 total time=  19.3s\n",
      "[CV 1/5; 7/10] START bootstrap=False, max_depth=60, max_features=sqrt, min_samples_leaf=4, min_samples_split=10, n_estimators=1400\n",
      "[CV 1/5; 7/10] END bootstrap=False, max_depth=60, max_features=sqrt, min_samples_leaf=4, min_samples_split=10, n_estimators=1400;, score=0.544 total time=  29.5s\n",
      "[CV 3/5; 8/10] START bootstrap=False, max_depth=20, max_features=auto, min_samples_leaf=2, min_samples_split=5, n_estimators=1400\n",
      "[CV 3/5; 8/10] END bootstrap=False, max_depth=20, max_features=auto, min_samples_leaf=2, min_samples_split=5, n_estimators=1400;, score=0.727 total time=  27.1s\n"
     ]
    },
    {
     "name": "stderr",
     "output_type": "stream",
     "text": [
      "Intel(R) Extension for Scikit-learn* enabled (https://github.com/intel/scikit-learn-intelex)\n"
     ]
    },
    {
     "name": "stdout",
     "output_type": "stream",
     "text": [
      "[CV 2/5; 2/10] START bootstrap=False, max_depth=50, max_features=auto, min_samples_leaf=1, min_samples_split=10, n_estimators=1200\n",
      "[CV 2/5; 2/10] END bootstrap=False, max_depth=50, max_features=auto, min_samples_leaf=1, min_samples_split=10, n_estimators=1200;, score=0.726 total time=  30.1s\n",
      "[CV 2/5; 4/10] START bootstrap=False, max_depth=30, max_features=sqrt, min_samples_leaf=4, min_samples_split=10, n_estimators=1800\n",
      "[CV 2/5; 4/10] END bootstrap=False, max_depth=30, max_features=sqrt, min_samples_leaf=4, min_samples_split=10, n_estimators=1800;, score=0.726 total time=  33.9s\n",
      "[CV 2/5; 7/10] START bootstrap=False, max_depth=60, max_features=sqrt, min_samples_leaf=4, min_samples_split=10, n_estimators=1400\n",
      "[CV 2/5; 7/10] END bootstrap=False, max_depth=60, max_features=sqrt, min_samples_leaf=4, min_samples_split=10, n_estimators=1400;, score=0.726 total time=  31.1s\n",
      "[CV 4/5; 8/10] START bootstrap=False, max_depth=20, max_features=auto, min_samples_leaf=2, min_samples_split=5, n_estimators=1400\n",
      "[CV 4/5; 8/10] END bootstrap=False, max_depth=20, max_features=auto, min_samples_leaf=2, min_samples_split=5, n_estimators=1400;, score=0.750 total time=  24.4s\n"
     ]
    },
    {
     "name": "stderr",
     "output_type": "stream",
     "text": [
      "Intel(R) Extension for Scikit-learn* enabled (https://github.com/intel/scikit-learn-intelex)\n"
     ]
    },
    {
     "name": "stdout",
     "output_type": "stream",
     "text": [
      "[CV 5/5; 1/10] START bootstrap=False, max_depth=20, max_features=sqrt, min_samples_leaf=2, min_samples_split=10, n_estimators=1800\n",
      "[CV 5/5; 1/10] END bootstrap=False, max_depth=20, max_features=sqrt, min_samples_leaf=2, min_samples_split=10, n_estimators=1800;, score=0.749 total time=  39.8s\n",
      "[CV 5/5; 4/10] START bootstrap=False, max_depth=30, max_features=sqrt, min_samples_leaf=4, min_samples_split=10, n_estimators=1800\n",
      "[CV 5/5; 4/10] END bootstrap=False, max_depth=30, max_features=sqrt, min_samples_leaf=4, min_samples_split=10, n_estimators=1800;, score=0.745 total time=  33.0s\n",
      "[CV 4/5; 7/10] START bootstrap=False, max_depth=60, max_features=sqrt, min_samples_leaf=4, min_samples_split=10, n_estimators=1400\n",
      "[CV 4/5; 7/10] END bootstrap=False, max_depth=60, max_features=sqrt, min_samples_leaf=4, min_samples_split=10, n_estimators=1400;, score=0.749 total time=  29.4s\n",
      "[CV 5/5; 8/10] START bootstrap=False, max_depth=20, max_features=auto, min_samples_leaf=2, min_samples_split=5, n_estimators=1400\n",
      "[CV 5/5; 8/10] END bootstrap=False, max_depth=20, max_features=auto, min_samples_leaf=2, min_samples_split=5, n_estimators=1400;, score=0.757 total time=  21.0s\n"
     ]
    },
    {
     "name": "stderr",
     "output_type": "stream",
     "text": [
      "Intel(R) Extension for Scikit-learn* enabled (https://github.com/intel/scikit-learn-intelex)\n",
      "Intel(R) Extension for Scikit-learn* enabled (https://github.com/intel/scikit-learn-intelex)\n",
      "Intel(R) Extension for Scikit-learn* enabled (https://github.com/intel/scikit-learn-intelex)\n"
     ]
    },
    {
     "name": "stdout",
     "output_type": "stream",
     "text": [
      "[CV 3/5; 7/10] START bootstrap=False, max_depth=60, max_features=sqrt, min_samples_leaf=4, min_samples_split=10, n_estimators=1400\n",
      "[CV 3/5; 7/10] END bootstrap=False, max_depth=60, max_features=sqrt, min_samples_leaf=4, min_samples_split=10, n_estimators=1400;, score=0.732 total time=  25.1s\n",
      "[CV 2/5; 9/10] START bootstrap=False, max_depth=60, max_features=auto, min_samples_leaf=4, min_samples_split=2, n_estimators=1800\n",
      "[CV 2/5; 9/10] END bootstrap=False, max_depth=60, max_features=auto, min_samples_leaf=4, min_samples_split=2, n_estimators=1800;, score=0.726 total time=  21.7s\n"
     ]
    },
    {
     "data": {
      "text/html": [
       "<style>#sk-container-id-2 {color: black;background-color: white;}#sk-container-id-2 pre{padding: 0;}#sk-container-id-2 div.sk-toggleable {background-color: white;}#sk-container-id-2 label.sk-toggleable__label {cursor: pointer;display: block;width: 100%;margin-bottom: 0;padding: 0.3em;box-sizing: border-box;text-align: center;}#sk-container-id-2 label.sk-toggleable__label-arrow:before {content: \"▸\";float: left;margin-right: 0.25em;color: #696969;}#sk-container-id-2 label.sk-toggleable__label-arrow:hover:before {color: black;}#sk-container-id-2 div.sk-estimator:hover label.sk-toggleable__label-arrow:before {color: black;}#sk-container-id-2 div.sk-toggleable__content {max-height: 0;max-width: 0;overflow: hidden;text-align: left;background-color: #f0f8ff;}#sk-container-id-2 div.sk-toggleable__content pre {margin: 0.2em;color: black;border-radius: 0.25em;background-color: #f0f8ff;}#sk-container-id-2 input.sk-toggleable__control:checked~div.sk-toggleable__content {max-height: 200px;max-width: 100%;overflow: auto;}#sk-container-id-2 input.sk-toggleable__control:checked~label.sk-toggleable__label-arrow:before {content: \"▾\";}#sk-container-id-2 div.sk-estimator input.sk-toggleable__control:checked~label.sk-toggleable__label {background-color: #d4ebff;}#sk-container-id-2 div.sk-label input.sk-toggleable__control:checked~label.sk-toggleable__label {background-color: #d4ebff;}#sk-container-id-2 input.sk-hidden--visually {border: 0;clip: rect(1px 1px 1px 1px);clip: rect(1px, 1px, 1px, 1px);height: 1px;margin: -1px;overflow: hidden;padding: 0;position: absolute;width: 1px;}#sk-container-id-2 div.sk-estimator {font-family: monospace;background-color: #f0f8ff;border: 1px dotted black;border-radius: 0.25em;box-sizing: border-box;margin-bottom: 0.5em;}#sk-container-id-2 div.sk-estimator:hover {background-color: #d4ebff;}#sk-container-id-2 div.sk-parallel-item::after {content: \"\";width: 100%;border-bottom: 1px solid gray;flex-grow: 1;}#sk-container-id-2 div.sk-label:hover label.sk-toggleable__label {background-color: #d4ebff;}#sk-container-id-2 div.sk-serial::before {content: \"\";position: absolute;border-left: 1px solid gray;box-sizing: border-box;top: 0;bottom: 0;left: 50%;z-index: 0;}#sk-container-id-2 div.sk-serial {display: flex;flex-direction: column;align-items: center;background-color: white;padding-right: 0.2em;padding-left: 0.2em;position: relative;}#sk-container-id-2 div.sk-item {position: relative;z-index: 1;}#sk-container-id-2 div.sk-parallel {display: flex;align-items: stretch;justify-content: center;background-color: white;position: relative;}#sk-container-id-2 div.sk-item::before, #sk-container-id-2 div.sk-parallel-item::before {content: \"\";position: absolute;border-left: 1px solid gray;box-sizing: border-box;top: 0;bottom: 0;left: 50%;z-index: -1;}#sk-container-id-2 div.sk-parallel-item {display: flex;flex-direction: column;z-index: 1;position: relative;background-color: white;}#sk-container-id-2 div.sk-parallel-item:first-child::after {align-self: flex-end;width: 50%;}#sk-container-id-2 div.sk-parallel-item:last-child::after {align-self: flex-start;width: 50%;}#sk-container-id-2 div.sk-parallel-item:only-child::after {width: 0;}#sk-container-id-2 div.sk-dashed-wrapped {border: 1px dashed gray;margin: 0 0.4em 0.5em 0.4em;box-sizing: border-box;padding-bottom: 0.4em;background-color: white;}#sk-container-id-2 div.sk-label label {font-family: monospace;font-weight: bold;display: inline-block;line-height: 1.2em;}#sk-container-id-2 div.sk-label-container {text-align: center;}#sk-container-id-2 div.sk-container {/* jupyter's `normalize.less` sets `[hidden] { display: none; }` but bootstrap.min.css set `[hidden] { display: none !important; }` so we also need the `!important` here to be able to override the default hidden behavior on the sphinx rendered scikit-learn.org. See: https://github.com/scikit-learn/scikit-learn/issues/21755 */display: inline-block !important;position: relative;}#sk-container-id-2 div.sk-text-repr-fallback {display: none;}</style><div id=\"sk-container-id-2\" class=\"sk-top-container\"><div class=\"sk-text-repr-fallback\"><pre>RandomizedSearchCV(estimator=RandomForestClassifier(random_state=42), n_jobs=-1,\n",
       "                   param_distributions={&#x27;bootstrap&#x27;: [True, False],\n",
       "                                        &#x27;max_depth&#x27;: [10, 20, 30, 40, 50, 60],\n",
       "                                        &#x27;max_features&#x27;: [&#x27;auto&#x27;, &#x27;sqrt&#x27;],\n",
       "                                        &#x27;min_samples_leaf&#x27;: [1, 2, 4],\n",
       "                                        &#x27;min_samples_split&#x27;: [2, 5, 10],\n",
       "                                        &#x27;n_estimators&#x27;: [600, 800, 1000, 1200,\n",
       "                                                         1400, 1600, 1800,\n",
       "                                                         2000]},\n",
       "                   random_state=42, verbose=10)</pre><b>In a Jupyter environment, please rerun this cell to show the HTML representation or trust the notebook. <br />On GitHub, the HTML representation is unable to render, please try loading this page with nbviewer.org.</b></div><div class=\"sk-container\" hidden><div class=\"sk-item sk-dashed-wrapped\"><div class=\"sk-label-container\"><div class=\"sk-label sk-toggleable\"><input class=\"sk-toggleable__control sk-hidden--visually\" id=\"sk-estimator-id-4\" type=\"checkbox\" ><label for=\"sk-estimator-id-4\" class=\"sk-toggleable__label sk-toggleable__label-arrow\">RandomizedSearchCV</label><div class=\"sk-toggleable__content\"><pre>RandomizedSearchCV(estimator=RandomForestClassifier(random_state=42), n_jobs=-1,\n",
       "                   param_distributions={&#x27;bootstrap&#x27;: [True, False],\n",
       "                                        &#x27;max_depth&#x27;: [10, 20, 30, 40, 50, 60],\n",
       "                                        &#x27;max_features&#x27;: [&#x27;auto&#x27;, &#x27;sqrt&#x27;],\n",
       "                                        &#x27;min_samples_leaf&#x27;: [1, 2, 4],\n",
       "                                        &#x27;min_samples_split&#x27;: [2, 5, 10],\n",
       "                                        &#x27;n_estimators&#x27;: [600, 800, 1000, 1200,\n",
       "                                                         1400, 1600, 1800,\n",
       "                                                         2000]},\n",
       "                   random_state=42, verbose=10)</pre></div></div></div><div class=\"sk-parallel\"><div class=\"sk-parallel-item\"><div class=\"sk-item\"><div class=\"sk-label-container\"><div class=\"sk-label sk-toggleable\"><input class=\"sk-toggleable__control sk-hidden--visually\" id=\"sk-estimator-id-5\" type=\"checkbox\" ><label for=\"sk-estimator-id-5\" class=\"sk-toggleable__label sk-toggleable__label-arrow\">estimator: RandomForestClassifier</label><div class=\"sk-toggleable__content\"><pre>RandomForestClassifier(random_state=42)</pre></div></div></div><div class=\"sk-serial\"><div class=\"sk-item\"><div class=\"sk-estimator sk-toggleable\"><input class=\"sk-toggleable__control sk-hidden--visually\" id=\"sk-estimator-id-6\" type=\"checkbox\" ><label for=\"sk-estimator-id-6\" class=\"sk-toggleable__label sk-toggleable__label-arrow\">RandomForestClassifier</label><div class=\"sk-toggleable__content\"><pre>RandomForestClassifier(random_state=42)</pre></div></div></div></div></div></div></div></div></div></div>"
      ],
      "text/plain": [
       "RandomizedSearchCV(estimator=RandomForestClassifier(random_state=42), n_jobs=-1,\n",
       "                   param_distributions={'bootstrap': [True, False],\n",
       "                                        'max_depth': [10, 20, 30, 40, 50, 60],\n",
       "                                        'max_features': ['auto', 'sqrt'],\n",
       "                                        'min_samples_leaf': [1, 2, 4],\n",
       "                                        'min_samples_split': [2, 5, 10],\n",
       "                                        'n_estimators': [600, 800, 1000, 1200,\n",
       "                                                         1400, 1600, 1800,\n",
       "                                                         2000]},\n",
       "                   random_state=42, verbose=10)"
      ]
     },
     "execution_count": 104,
     "metadata": {},
     "output_type": "execute_result"
    }
   ],
   "source": [
    "rfc=RandomForestClassifier(random_state=42)\n",
    "params1={'bootstrap': [True, False],\n",
    " 'max_depth': [10, 20, 30, 40, 50, 60],\n",
    " 'max_features': ['auto', 'sqrt'],\n",
    " 'min_samples_leaf': [1, 2, 4],\n",
    " 'min_samples_split': [2, 5, 10],\n",
    " 'n_estimators': [600, 800, 1000, 1200, 1400, 1600, 1800, 2000]}\n",
    "random_rfc=RandomizedSearchCV(rfc,param_distributions=params1,verbose=10,n_jobs=-1,random_state=42)\n",
    "random_rfc.fit(result_kbest_20,y1_enco)"
   ]
  },
  {
   "cell_type": "code",
   "execution_count": 105,
   "id": "10b73a20-5a7b-4840-b403-2bad1cce12c3",
   "metadata": {},
   "outputs": [
    {
     "name": "stdout",
     "output_type": "stream",
     "text": [
      "RandomForestClassifier(bootstrap=False, max_depth=50, min_samples_split=10,\n",
      "                       n_estimators=1200, random_state=42)\n"
     ]
    }
   ],
   "source": [
    "print(random_rfc.best_estimator_)"
   ]
  },
  {
   "cell_type": "code",
   "execution_count": 106,
   "id": "b20761e6-869f-4f27-8bee-3741cd6a52f0",
   "metadata": {},
   "outputs": [
    {
     "name": "stdout",
     "output_type": "stream",
     "text": [
      "0.7000834319227144\n"
     ]
    }
   ],
   "source": [
    "print(random_rfc.best_score_)"
   ]
  },
  {
   "cell_type": "code",
   "execution_count": 107,
   "id": "7869f88a-75c1-45c4-9446-c832305d1352",
   "metadata": {},
   "outputs": [
    {
     "name": "stdout",
     "output_type": "stream",
     "text": [
      "The train f1_macro is: 0.918958634221498\n",
      "The cross validation f1_macro is: 0.5043052408670005\n"
     ]
    }
   ],
   "source": [
    "rfc = RandomForestClassifier(n_estimators=1800,max_depth=20,max_features='sqrt',bootstrap=False, min_samples_leaf=2, min_samples_split=10,random_state=42)\n",
    "rfc.fit(result_kbest_20,y1_enco)\n",
    "cal_clf = CalibratedClassifierCV(rfc, method=\"sigmoid\")\n",
    "cal_clf.fit(result_kbest_20,y1_enco)\n",
    "predict_y =cal_clf .predict(result_kbest_20)\n",
    "print ('The train f1_macro is:',f1_score(y1_enco, predict_y,average='macro'))\n",
    "predict_y = cal_clf.predict(result_kbest_val)\n",
    "print('The cross validation f1_macro is:',f1_score(y1_en_val, predict_y,average='macro'))"
   ]
  },
  {
   "cell_type": "code",
   "execution_count": 108,
   "id": "3635b807-0ac6-43d2-9f52-5f012f58fe31",
   "metadata": {},
   "outputs": [],
   "source": [
    "from imblearn.over_sampling import BorderlineSMOTE"
   ]
  },
  {
   "cell_type": "code",
   "execution_count": 109,
   "id": "159cdc0c-b989-4c1a-8e2c-f1b473ae2b44",
   "metadata": {},
   "outputs": [
    {
     "name": "stdout",
     "output_type": "stream",
     "text": [
      "shape of X before SMOTE: (13728, 48) \n",
      "shape of X after SMOTE: (28446, 48)\n",
      "balanced class (%):\n"
     ]
    },
    {
     "data": {
      "text/plain": [
       "0    12.46924\n",
       "2    12.46924\n",
       "3    12.46924\n",
       "4    12.46924\n",
       "5    12.46924\n",
       "6    12.46924\n",
       "7    12.46924\n",
       "8    12.46924\n",
       "1     0.24608\n",
       "dtype: float64"
      ]
     },
     "execution_count": 109,
     "metadata": {},
     "output_type": "execute_result"
    }
   ],
   "source": [
    "smd=BorderlineSMOTE(random_state=42)\n",
    "X_smd, y_smd = smd.fit_resample(X2, pd.DataFrame(y2_en))\n",
    "print(f'''shape of X before SMOTE: {X2.shape} \n",
    "shape of X after SMOTE: {X_smd.shape}''')\n",
    "print('balanced class (%):')\n",
    "y_smd.value_counts(normalize=True) * 100"
   ]
  },
  {
   "cell_type": "code",
   "execution_count": 110,
   "id": "7311a721-1b36-4681-946d-a2554a2c8e36",
   "metadata": {},
   "outputs": [
    {
     "data": {
      "text/html": [
       "<div>\n",
       "<style scoped>\n",
       "    .dataframe tbody tr th:only-of-type {\n",
       "        vertical-align: middle;\n",
       "    }\n",
       "\n",
       "    .dataframe tbody tr th {\n",
       "        vertical-align: top;\n",
       "    }\n",
       "\n",
       "    .dataframe thead th {\n",
       "        text-align: right;\n",
       "    }\n",
       "</style>\n",
       "<table border=\"1\" class=\"dataframe\">\n",
       "  <thead>\n",
       "    <tr style=\"text-align: right;\">\n",
       "      <th></th>\n",
       "      <th>patient_age</th>\n",
       "      <th>defective_mother</th>\n",
       "      <th>defective_father</th>\n",
       "      <th>maternal_gene</th>\n",
       "      <th>paternal_gene</th>\n",
       "      <th>blood_cell_count</th>\n",
       "      <th>mother_age</th>\n",
       "      <th>father_age</th>\n",
       "      <th>Status</th>\n",
       "      <th>respiratory_rate</th>\n",
       "      <th>...</th>\n",
       "      <th>radiation_exposure_Yes</th>\n",
       "      <th>radiation_exposure_others</th>\n",
       "      <th>substance_abuse_No</th>\n",
       "      <th>substance_abuse_Not applicable</th>\n",
       "      <th>substance_abuse_Yes</th>\n",
       "      <th>substance_abuse_others</th>\n",
       "      <th>blood_test_result_abnormal</th>\n",
       "      <th>blood_test_result_inconclusive</th>\n",
       "      <th>blood_test_result_normal</th>\n",
       "      <th>blood_test_result_slightly abnormal</th>\n",
       "    </tr>\n",
       "  </thead>\n",
       "  <tbody>\n",
       "    <tr>\n",
       "      <th>0</th>\n",
       "      <td>0.214286</td>\n",
       "      <td>0.0</td>\n",
       "      <td>0.0</td>\n",
       "      <td>0.0</td>\n",
       "      <td>0.0</td>\n",
       "      <td>0.397625</td>\n",
       "      <td>0.515152</td>\n",
       "      <td>0.977273</td>\n",
       "      <td>1.0</td>\n",
       "      <td>0.0</td>\n",
       "      <td>...</td>\n",
       "      <td>0.0</td>\n",
       "      <td>0.0</td>\n",
       "      <td>1.0</td>\n",
       "      <td>0.0</td>\n",
       "      <td>0.0</td>\n",
       "      <td>0.0</td>\n",
       "      <td>1.0</td>\n",
       "      <td>0.0</td>\n",
       "      <td>0.0</td>\n",
       "      <td>0.0</td>\n",
       "    </tr>\n",
       "    <tr>\n",
       "      <th>1</th>\n",
       "      <td>0.000000</td>\n",
       "      <td>1.0</td>\n",
       "      <td>0.0</td>\n",
       "      <td>1.0</td>\n",
       "      <td>0.0</td>\n",
       "      <td>0.122969</td>\n",
       "      <td>0.939394</td>\n",
       "      <td>0.545455</td>\n",
       "      <td>0.0</td>\n",
       "      <td>1.0</td>\n",
       "      <td>...</td>\n",
       "      <td>0.0</td>\n",
       "      <td>0.0</td>\n",
       "      <td>1.0</td>\n",
       "      <td>0.0</td>\n",
       "      <td>0.0</td>\n",
       "      <td>0.0</td>\n",
       "      <td>0.0</td>\n",
       "      <td>0.0</td>\n",
       "      <td>0.0</td>\n",
       "      <td>1.0</td>\n",
       "    </tr>\n",
       "  </tbody>\n",
       "</table>\n",
       "<p>2 rows × 48 columns</p>\n",
       "</div>"
      ],
      "text/plain": [
       "   patient_age  defective_mother  defective_father  maternal_gene  \\\n",
       "0     0.214286               0.0               0.0            0.0   \n",
       "1     0.000000               1.0               0.0            1.0   \n",
       "\n",
       "   paternal_gene  blood_cell_count  mother_age  father_age  Status  \\\n",
       "0            0.0          0.397625    0.515152    0.977273     1.0   \n",
       "1            0.0          0.122969    0.939394    0.545455     0.0   \n",
       "\n",
       "   respiratory_rate  ...  radiation_exposure_Yes  radiation_exposure_others  \\\n",
       "0               0.0  ...                     0.0                        0.0   \n",
       "1               1.0  ...                     0.0                        0.0   \n",
       "\n",
       "   substance_abuse_No  substance_abuse_Not applicable  substance_abuse_Yes  \\\n",
       "0                 1.0                             0.0                  0.0   \n",
       "1                 1.0                             0.0                  0.0   \n",
       "\n",
       "   substance_abuse_others  blood_test_result_abnormal  \\\n",
       "0                     0.0                         1.0   \n",
       "1                     0.0                         0.0   \n",
       "\n",
       "   blood_test_result_inconclusive  blood_test_result_normal  \\\n",
       "0                             0.0                       0.0   \n",
       "1                             0.0                       0.0   \n",
       "\n",
       "   blood_test_result_slightly abnormal  \n",
       "0                                  0.0  \n",
       "1                                  1.0  \n",
       "\n",
       "[2 rows x 48 columns]"
      ]
     },
     "execution_count": 110,
     "metadata": {},
     "output_type": "execute_result"
    }
   ],
   "source": [
    "X_smd.head(2)"
   ]
  },
  {
   "cell_type": "code",
   "execution_count": 111,
   "id": "785c4cae-adab-41d6-8cb2-fa53fccc1ff5",
   "metadata": {},
   "outputs": [],
   "source": [
    "y2_enco=np.array(y_smd).ravel()"
   ]
  },
  {
   "cell_type": "code",
   "execution_count": 112,
   "id": "2d8498ab-3f10-4f2d-bbc0-92d787f0bfbe",
   "metadata": {},
   "outputs": [],
   "source": [
    "from sklearn.feature_selection import SelectKBest,chi2"
   ]
  },
  {
   "cell_type": "code",
   "execution_count": 113,
   "id": "0ff24271-3bf2-424a-bd62-2fb2240f37b8",
   "metadata": {},
   "outputs": [],
   "source": [
    "# feature selection \n",
    "sel2=SelectKBest(chi2, k=25).fit(X_smd,y2_enco)"
   ]
  },
  {
   "cell_type": "code",
   "execution_count": 114,
   "id": "69c522c0-6578-4ee3-b2ed-a8b4f8b807a0",
   "metadata": {},
   "outputs": [
    {
     "name": "stdout",
     "output_type": "stream",
     "text": [
      "(28446, 25)\n"
     ]
    }
   ],
   "source": [
    "cols=sel2.get_support(indices=True)\n",
    "print(X_smd.iloc[:,cols].shape)\n",
    "result_kbest_20d=X_smd.iloc[:,cols]"
   ]
  },
  {
   "cell_type": "code",
   "execution_count": 115,
   "id": "f20be6ff-0deb-46ec-af5f-ea8c8498e2e9",
   "metadata": {},
   "outputs": [
    {
     "name": "stdout",
     "output_type": "stream",
     "text": [
      "Index(['patient_age', 'defective_father', 'maternal_gene', 'paternal_gene',\n",
      "       'Status', 'heart_rate', 'maternal_illness', 'assisted_conception',\n",
      "       'previous_pregnancy_anomalies', 'Symptom 1', 'Symptom 2',\n",
      "       'Gender_Ambiguous', 'Gender_Female', 'birth_asphyxia_No',\n",
      "       'birth_asphyxia_Not available', 'birth_defect_autopsy_None',\n",
      "       'birth_defect_autopsy_Not applicable', 'birth_defect_autopsy_Yes',\n",
      "       'radiation_exposure_No', 'radiation_exposure_Yes', 'substance_abuse_No',\n",
      "       'substance_abuse_Yes', 'substance_abuse_others',\n",
      "       'blood_test_result_inconclusive',\n",
      "       'blood_test_result_slightly abnormal'],\n",
      "      dtype='object')\n"
     ]
    }
   ],
   "source": [
    "sele_fead= X2.columns[(sel2.get_support())]\n",
    "print(sele_fead)"
   ]
  },
  {
   "cell_type": "code",
   "execution_count": 116,
   "id": "b8c0ea62-2798-4009-9c9b-4f4e5f94d7d8",
   "metadata": {},
   "outputs": [
    {
     "name": "stdout",
     "output_type": "stream",
     "text": [
      "(3432, 25)\n"
     ]
    }
   ],
   "source": [
    "print(X2_val.iloc[:,cols].shape)\n",
    "result_kbest_vald=X2_val.iloc[:,cols]"
   ]
  },
  {
   "cell_type": "code",
   "execution_count": 117,
   "id": "06ebbb87-320e-440c-a069-8b5a98f4f7bb",
   "metadata": {},
   "outputs": [
    {
     "name": "stdout",
     "output_type": "stream",
     "text": [
      "(9290, 25)\n"
     ]
    }
   ],
   "source": [
    "print(X2_test.iloc[:,cols].shape)\n",
    "result_kbest_test20d=X2_test.iloc[:,cols]"
   ]
  },
  {
   "cell_type": "code",
   "execution_count": 119,
   "id": "39066887-f1f8-49ad-a6bb-71521eaab5f4",
   "metadata": {},
   "outputs": [
    {
     "name": "stdout",
     "output_type": "stream",
     "text": [
      "f1_macro for k =  1 is 0.11041430330025165\n",
      "f1_macro for k =  3 is 0.11376051770981783\n",
      "f1_macro for k =  5 is 0.11110147785375939\n",
      "f1_macro for k =  7 is 0.10772690152171442\n",
      "f1_macro for k =  9 is 0.10801708206241753\n",
      "f1_macro for k =  11 is 0.10654140521092079\n",
      "f1_macro for k =  13 is 0.10761755332849184\n",
      "For values of best nn =  3 The train f1_macro is: 0.7266052241472009\n",
      "For values of best nn =  3 The cross validation f1_macro is: 0.11376051770981783\n"
     ]
    }
   ],
   "source": [
    "nn=[x for x in range(1, 15, 2)]\n",
    "cv_f1_macro=[]\n",
    "for i in nn:\n",
    "    knn=KNeighborsClassifier(n_neighbors=i,n_jobs=-1)\n",
    "    knn.fit(result_kbest_20d,y2_enco)\n",
    "    cal_clf = CalibratedClassifierCV(knn, method=\"sigmoid\")\n",
    "    cal_clf.fit(result_kbest_20d,y2_enco)\n",
    "    predict_y=cal_clf.predict(result_kbest_vald)\n",
    "    cv_f1_macro.append(f1_score(y2_en_val, predict_y,average='macro'))\n",
    "for i in range(len(cv_f1_macro)):\n",
    "    print ('f1_macro for k = ',nn[i],'is',cv_f1_macro[i])\n",
    "best_nn = np.argmax(cv_f1_macro)\n",
    "knn=KNeighborsClassifier(n_neighbors=nn[best_nn])\n",
    "knn.fit(result_kbest_20d,y2_enco)\n",
    "cal_clf = CalibratedClassifierCV(knn, method=\"sigmoid\")\n",
    "cal_clf.fit(result_kbest_20d,y2_enco)\n",
    "\n",
    "predict_y =cal_clf .predict(result_kbest_20d)\n",
    "print ('For values of best nn = ', nn[best_nn], \"The train f1_macro is:\",f1_score(y2_enco, predict_y,average='macro'))\n",
    "predict_y = cal_clf.predict(result_kbest_vald)\n",
    "print('For values of best nn = ', nn[best_nn], \"The cross validation f1_macro is:\",f1_score(y2_en_val, predict_y,average='macro'))"
   ]
  },
  {
   "cell_type": "code",
   "execution_count": 120,
   "id": "d8d0f81e-d65b-4ebb-ab4e-3f0a813b4aa5",
   "metadata": {},
   "outputs": [
    {
     "name": "stdout",
     "output_type": "stream",
     "text": [
      "f1_macro for C =  1e-05 is 0.06920247558916358\n",
      "f1_macro for C =  0.0001 is 0.07045648456527001\n",
      "f1_macro for C =  0.001 is 0.07145670888109865\n",
      "f1_macro for C =  0.01 is 0.07209849122439049\n",
      "f1_macro for C =  0.1 is 0.06950041426457557\n",
      "f1_macro for C =  1 is 0.0696892999133188\n",
      "f1_macro for C =  10 is 0.06970425143222211\n",
      "f1_macro for C =  100 is 0.06970670086558248\n",
      "f1_macro for C =  1000 is 0.06970368435578592\n",
      "For values of best C =  0.01 The train f1_macro is: 0.19771516961067545\n",
      "For values of best C =  0.01 The cross validation f1_macro is: 0.07209849122439049\n"
     ]
    }
   ],
   "source": [
    "C1= [10 ** x for x in range(-5, 4)]\n",
    "cv_f1_macro=[]\n",
    "for i in C1:\n",
    "    logisticR=LogisticRegression(penalty='l2',C=i,class_weight='balanced',max_iter=1000)\n",
    "    logisticR.fit(result_kbest_20d,y2_enco)\n",
    "    cal_clf = CalibratedClassifierCV(logisticR, method=\"sigmoid\")\n",
    "    cal_clf.fit(result_kbest_20d,y2_enco)\n",
    "    predict_y=cal_clf.predict(result_kbest_vald)\n",
    "    cv_f1_macro.append(f1_score(y2_en_val, predict_y,average='macro'))\n",
    "for i in range(len(cv_f1_macro)):\n",
    "    print ('f1_macro for C = ',C1[i],'is',cv_f1_macro[i])\n",
    "best_C1 = np.argmax(cv_f1_macro)\n",
    "logisticR=LogisticRegression(penalty='l2',C=C1[best_C1],class_weight='balanced',max_iter=1000)\n",
    "logisticR.fit(result_kbest_20d,y2_enco)\n",
    "cal_clf = CalibratedClassifierCV(logisticR, method=\"sigmoid\")\n",
    "cal_clf.fit(result_kbest_20d,y2_enco)\n",
    "\n",
    "predict_y =cal_clf .predict(result_kbest_20d)\n",
    "print ('For values of best C = ',C1[best_C1], \"The train f1_macro is:\",f1_score(y2_enco, predict_y,average='macro'))\n",
    "predict_y = cal_clf.predict(result_kbest_vald)\n",
    "print('For values of best C = ',C1[best_C1], \"The cross validation f1_macro is:\",f1_score(y2_en_val, predict_y,average='macro'))"
   ]
  },
  {
   "cell_type": "code",
   "execution_count": 121,
   "id": "d0a81cf3-9880-4a96-becb-5aa63fb27835",
   "metadata": {},
   "outputs": [
    {
     "name": "stderr",
     "output_type": "stream",
     "text": [
      "Intel(R) Extension for Scikit-learn* enabled (https://github.com/intel/scikit-learn-intelex)\n",
      "Intel(R) Extension for Scikit-learn* enabled (https://github.com/intel/scikit-learn-intelex)\n",
      "Intel(R) Extension for Scikit-learn* enabled (https://github.com/intel/scikit-learn-intelex)\n",
      "Intel(R) Extension for Scikit-learn* enabled (https://github.com/intel/scikit-learn-intelex)\n",
      "Intel(R) Extension for Scikit-learn* enabled (https://github.com/intel/scikit-learn-intelex)\n",
      "Intel(R) Extension for Scikit-learn* enabled (https://github.com/intel/scikit-learn-intelex)\n",
      "Intel(R) Extension for Scikit-learn* enabled (https://github.com/intel/scikit-learn-intelex)\n",
      "Intel(R) Extension for Scikit-learn* enabled (https://github.com/intel/scikit-learn-intelex)\n",
      "Intel(R) Extension for Scikit-learn* enabled (https://github.com/intel/scikit-learn-intelex)\n",
      "Intel(R) Extension for Scikit-learn* enabled (https://github.com/intel/scikit-learn-intelex)\n",
      "Intel(R) Extension for Scikit-learn* enabled (https://github.com/intel/scikit-learn-intelex)\n",
      "Intel(R) Extension for Scikit-learn* enabled (https://github.com/intel/scikit-learn-intelex)\n"
     ]
    },
    {
     "data": {
      "text/html": [
       "<style>#sk-container-id-3 {color: black;background-color: white;}#sk-container-id-3 pre{padding: 0;}#sk-container-id-3 div.sk-toggleable {background-color: white;}#sk-container-id-3 label.sk-toggleable__label {cursor: pointer;display: block;width: 100%;margin-bottom: 0;padding: 0.3em;box-sizing: border-box;text-align: center;}#sk-container-id-3 label.sk-toggleable__label-arrow:before {content: \"▸\";float: left;margin-right: 0.25em;color: #696969;}#sk-container-id-3 label.sk-toggleable__label-arrow:hover:before {color: black;}#sk-container-id-3 div.sk-estimator:hover label.sk-toggleable__label-arrow:before {color: black;}#sk-container-id-3 div.sk-toggleable__content {max-height: 0;max-width: 0;overflow: hidden;text-align: left;background-color: #f0f8ff;}#sk-container-id-3 div.sk-toggleable__content pre {margin: 0.2em;color: black;border-radius: 0.25em;background-color: #f0f8ff;}#sk-container-id-3 input.sk-toggleable__control:checked~div.sk-toggleable__content {max-height: 200px;max-width: 100%;overflow: auto;}#sk-container-id-3 input.sk-toggleable__control:checked~label.sk-toggleable__label-arrow:before {content: \"▾\";}#sk-container-id-3 div.sk-estimator input.sk-toggleable__control:checked~label.sk-toggleable__label {background-color: #d4ebff;}#sk-container-id-3 div.sk-label input.sk-toggleable__control:checked~label.sk-toggleable__label {background-color: #d4ebff;}#sk-container-id-3 input.sk-hidden--visually {border: 0;clip: rect(1px 1px 1px 1px);clip: rect(1px, 1px, 1px, 1px);height: 1px;margin: -1px;overflow: hidden;padding: 0;position: absolute;width: 1px;}#sk-container-id-3 div.sk-estimator {font-family: monospace;background-color: #f0f8ff;border: 1px dotted black;border-radius: 0.25em;box-sizing: border-box;margin-bottom: 0.5em;}#sk-container-id-3 div.sk-estimator:hover {background-color: #d4ebff;}#sk-container-id-3 div.sk-parallel-item::after {content: \"\";width: 100%;border-bottom: 1px solid gray;flex-grow: 1;}#sk-container-id-3 div.sk-label:hover label.sk-toggleable__label {background-color: #d4ebff;}#sk-container-id-3 div.sk-serial::before {content: \"\";position: absolute;border-left: 1px solid gray;box-sizing: border-box;top: 0;bottom: 0;left: 50%;z-index: 0;}#sk-container-id-3 div.sk-serial {display: flex;flex-direction: column;align-items: center;background-color: white;padding-right: 0.2em;padding-left: 0.2em;position: relative;}#sk-container-id-3 div.sk-item {position: relative;z-index: 1;}#sk-container-id-3 div.sk-parallel {display: flex;align-items: stretch;justify-content: center;background-color: white;position: relative;}#sk-container-id-3 div.sk-item::before, #sk-container-id-3 div.sk-parallel-item::before {content: \"\";position: absolute;border-left: 1px solid gray;box-sizing: border-box;top: 0;bottom: 0;left: 50%;z-index: -1;}#sk-container-id-3 div.sk-parallel-item {display: flex;flex-direction: column;z-index: 1;position: relative;background-color: white;}#sk-container-id-3 div.sk-parallel-item:first-child::after {align-self: flex-end;width: 50%;}#sk-container-id-3 div.sk-parallel-item:last-child::after {align-self: flex-start;width: 50%;}#sk-container-id-3 div.sk-parallel-item:only-child::after {width: 0;}#sk-container-id-3 div.sk-dashed-wrapped {border: 1px dashed gray;margin: 0 0.4em 0.5em 0.4em;box-sizing: border-box;padding-bottom: 0.4em;background-color: white;}#sk-container-id-3 div.sk-label label {font-family: monospace;font-weight: bold;display: inline-block;line-height: 1.2em;}#sk-container-id-3 div.sk-label-container {text-align: center;}#sk-container-id-3 div.sk-container {/* jupyter's `normalize.less` sets `[hidden] { display: none; }` but bootstrap.min.css set `[hidden] { display: none !important; }` so we also need the `!important` here to be able to override the default hidden behavior on the sphinx rendered scikit-learn.org. See: https://github.com/scikit-learn/scikit-learn/issues/21755 */display: inline-block !important;position: relative;}#sk-container-id-3 div.sk-text-repr-fallback {display: none;}</style><div id=\"sk-container-id-3\" class=\"sk-top-container\"><div class=\"sk-text-repr-fallback\"><pre>RandomizedSearchCV(estimator=DecisionTreeClassifier(random_state=42), n_jobs=-1,\n",
       "                   param_distributions={&#x27;criterion&#x27;: [&#x27;gini&#x27;, &#x27;entropy&#x27;],\n",
       "                                        &#x27;max_depth&#x27;: [2, 3, 5, 10, 20],\n",
       "                                        &#x27;min_samples_leaf&#x27;: [10, 20, 50, 100]},\n",
       "                   random_state=42)</pre><b>In a Jupyter environment, please rerun this cell to show the HTML representation or trust the notebook. <br />On GitHub, the HTML representation is unable to render, please try loading this page with nbviewer.org.</b></div><div class=\"sk-container\" hidden><div class=\"sk-item sk-dashed-wrapped\"><div class=\"sk-label-container\"><div class=\"sk-label sk-toggleable\"><input class=\"sk-toggleable__control sk-hidden--visually\" id=\"sk-estimator-id-7\" type=\"checkbox\" ><label for=\"sk-estimator-id-7\" class=\"sk-toggleable__label sk-toggleable__label-arrow\">RandomizedSearchCV</label><div class=\"sk-toggleable__content\"><pre>RandomizedSearchCV(estimator=DecisionTreeClassifier(random_state=42), n_jobs=-1,\n",
       "                   param_distributions={&#x27;criterion&#x27;: [&#x27;gini&#x27;, &#x27;entropy&#x27;],\n",
       "                                        &#x27;max_depth&#x27;: [2, 3, 5, 10, 20],\n",
       "                                        &#x27;min_samples_leaf&#x27;: [10, 20, 50, 100]},\n",
       "                   random_state=42)</pre></div></div></div><div class=\"sk-parallel\"><div class=\"sk-parallel-item\"><div class=\"sk-item\"><div class=\"sk-label-container\"><div class=\"sk-label sk-toggleable\"><input class=\"sk-toggleable__control sk-hidden--visually\" id=\"sk-estimator-id-8\" type=\"checkbox\" ><label for=\"sk-estimator-id-8\" class=\"sk-toggleable__label sk-toggleable__label-arrow\">estimator: DecisionTreeClassifier</label><div class=\"sk-toggleable__content\"><pre>DecisionTreeClassifier(random_state=42)</pre></div></div></div><div class=\"sk-serial\"><div class=\"sk-item\"><div class=\"sk-estimator sk-toggleable\"><input class=\"sk-toggleable__control sk-hidden--visually\" id=\"sk-estimator-id-9\" type=\"checkbox\" ><label for=\"sk-estimator-id-9\" class=\"sk-toggleable__label sk-toggleable__label-arrow\">DecisionTreeClassifier</label><div class=\"sk-toggleable__content\"><pre>DecisionTreeClassifier(random_state=42)</pre></div></div></div></div></div></div></div></div></div></div>"
      ],
      "text/plain": [
       "RandomizedSearchCV(estimator=DecisionTreeClassifier(random_state=42), n_jobs=-1,\n",
       "                   param_distributions={'criterion': ['gini', 'entropy'],\n",
       "                                        'max_depth': [2, 3, 5, 10, 20],\n",
       "                                        'min_samples_leaf': [10, 20, 50, 100]},\n",
       "                   random_state=42)"
      ]
     },
     "execution_count": 121,
     "metadata": {},
     "output_type": "execute_result"
    }
   ],
   "source": [
    "DT = DecisionTreeClassifier(random_state=42)\n",
    "params = {\n",
    "    'max_depth': [2, 3, 5, 10, 20],\n",
    "    'min_samples_leaf': [10, 20, 50, 100],\n",
    "    'criterion': [\"gini\", \"entropy\"]\n",
    "}\n",
    "random_dt=RandomizedSearchCV(DT,param_distributions=params,n_jobs=-1,random_state=42)\n",
    "random_dt.fit(result_kbest_20d,y2_enco)"
   ]
  },
  {
   "cell_type": "code",
   "execution_count": 122,
   "id": "17c1c2ac-0d1a-4b26-9717-858874295396",
   "metadata": {},
   "outputs": [
    {
     "name": "stdout",
     "output_type": "stream",
     "text": [
      "DecisionTreeClassifier(max_depth=20, min_samples_leaf=10, random_state=42)\n"
     ]
    }
   ],
   "source": [
    "print(random_dt.best_estimator_)"
   ]
  },
  {
   "cell_type": "code",
   "execution_count": 123,
   "id": "b56e75ca-ede2-4fcc-a8e5-074f2b4591fa",
   "metadata": {},
   "outputs": [
    {
     "name": "stdout",
     "output_type": "stream",
     "text": [
      "0.41317269073823903\n"
     ]
    }
   ],
   "source": [
    "print(random_dt.best_score_)"
   ]
  },
  {
   "cell_type": "code",
   "execution_count": 124,
   "id": "c81cbb09-ae23-4c3c-ab80-eeda745f09fa",
   "metadata": {},
   "outputs": [
    {
     "name": "stdout",
     "output_type": "stream",
     "text": [
      "The train f1_macro is: 0.6027866767314486\n",
      "The cross validation f1_macro is: 0.10598526002079003\n"
     ]
    }
   ],
   "source": [
    "DT = DecisionTreeClassifier(max_depth=20,min_samples_leaf=10,random_state=42)\n",
    "DT.fit(result_kbest_20d,y2_enco)\n",
    "cal_clf = CalibratedClassifierCV(DT, method=\"sigmoid\")\n",
    "cal_clf.fit(result_kbest_20d,y2_enco)\n",
    "predict_y =cal_clf .predict(result_kbest_20d)\n",
    "print ('The train f1_macro is:',f1_score(y2_enco, predict_y,average='macro'))\n",
    "predict_y = cal_clf.predict(result_kbest_vald)\n",
    "print('The cross validation f1_macro is:',f1_score(y2_en_val, predict_y,average='macro'))"
   ]
  },
  {
   "cell_type": "code",
   "execution_count": 125,
   "id": "ec8aff62-3b2f-43b0-9c7a-a5698f8e1f45",
   "metadata": {},
   "outputs": [
    {
     "name": "stderr",
     "output_type": "stream",
     "text": [
      "Intel(R) Extension for Scikit-learn* enabled (https://github.com/intel/scikit-learn-intelex)\n",
      "Intel(R) Extension for Scikit-learn* enabled (https://github.com/intel/scikit-learn-intelex)\n",
      "Intel(R) Extension for Scikit-learn* enabled (https://github.com/intel/scikit-learn-intelex)\n",
      "Intel(R) Extension for Scikit-learn* enabled (https://github.com/intel/scikit-learn-intelex)\n",
      "Intel(R) Extension for Scikit-learn* enabled (https://github.com/intel/scikit-learn-intelex)\n",
      "Intel(R) Extension for Scikit-learn* enabled (https://github.com/intel/scikit-learn-intelex)\n",
      "Intel(R) Extension for Scikit-learn* enabled (https://github.com/intel/scikit-learn-intelex)\n",
      "Intel(R) Extension for Scikit-learn* enabled (https://github.com/intel/scikit-learn-intelex)\n",
      "Intel(R) Extension for Scikit-learn* enabled (https://github.com/intel/scikit-learn-intelex)\n",
      "Intel(R) Extension for Scikit-learn* enabled (https://github.com/intel/scikit-learn-intelex)\n",
      "Intel(R) Extension for Scikit-learn* enabled (https://github.com/intel/scikit-learn-intelex)\n",
      "Intel(R) Extension for Scikit-learn* enabled (https://github.com/intel/scikit-learn-intelex)\n"
     ]
    },
    {
     "data": {
      "text/html": [
       "<style>#sk-container-id-4 {color: black;background-color: white;}#sk-container-id-4 pre{padding: 0;}#sk-container-id-4 div.sk-toggleable {background-color: white;}#sk-container-id-4 label.sk-toggleable__label {cursor: pointer;display: block;width: 100%;margin-bottom: 0;padding: 0.3em;box-sizing: border-box;text-align: center;}#sk-container-id-4 label.sk-toggleable__label-arrow:before {content: \"▸\";float: left;margin-right: 0.25em;color: #696969;}#sk-container-id-4 label.sk-toggleable__label-arrow:hover:before {color: black;}#sk-container-id-4 div.sk-estimator:hover label.sk-toggleable__label-arrow:before {color: black;}#sk-container-id-4 div.sk-toggleable__content {max-height: 0;max-width: 0;overflow: hidden;text-align: left;background-color: #f0f8ff;}#sk-container-id-4 div.sk-toggleable__content pre {margin: 0.2em;color: black;border-radius: 0.25em;background-color: #f0f8ff;}#sk-container-id-4 input.sk-toggleable__control:checked~div.sk-toggleable__content {max-height: 200px;max-width: 100%;overflow: auto;}#sk-container-id-4 input.sk-toggleable__control:checked~label.sk-toggleable__label-arrow:before {content: \"▾\";}#sk-container-id-4 div.sk-estimator input.sk-toggleable__control:checked~label.sk-toggleable__label {background-color: #d4ebff;}#sk-container-id-4 div.sk-label input.sk-toggleable__control:checked~label.sk-toggleable__label {background-color: #d4ebff;}#sk-container-id-4 input.sk-hidden--visually {border: 0;clip: rect(1px 1px 1px 1px);clip: rect(1px, 1px, 1px, 1px);height: 1px;margin: -1px;overflow: hidden;padding: 0;position: absolute;width: 1px;}#sk-container-id-4 div.sk-estimator {font-family: monospace;background-color: #f0f8ff;border: 1px dotted black;border-radius: 0.25em;box-sizing: border-box;margin-bottom: 0.5em;}#sk-container-id-4 div.sk-estimator:hover {background-color: #d4ebff;}#sk-container-id-4 div.sk-parallel-item::after {content: \"\";width: 100%;border-bottom: 1px solid gray;flex-grow: 1;}#sk-container-id-4 div.sk-label:hover label.sk-toggleable__label {background-color: #d4ebff;}#sk-container-id-4 div.sk-serial::before {content: \"\";position: absolute;border-left: 1px solid gray;box-sizing: border-box;top: 0;bottom: 0;left: 50%;z-index: 0;}#sk-container-id-4 div.sk-serial {display: flex;flex-direction: column;align-items: center;background-color: white;padding-right: 0.2em;padding-left: 0.2em;position: relative;}#sk-container-id-4 div.sk-item {position: relative;z-index: 1;}#sk-container-id-4 div.sk-parallel {display: flex;align-items: stretch;justify-content: center;background-color: white;position: relative;}#sk-container-id-4 div.sk-item::before, #sk-container-id-4 div.sk-parallel-item::before {content: \"\";position: absolute;border-left: 1px solid gray;box-sizing: border-box;top: 0;bottom: 0;left: 50%;z-index: -1;}#sk-container-id-4 div.sk-parallel-item {display: flex;flex-direction: column;z-index: 1;position: relative;background-color: white;}#sk-container-id-4 div.sk-parallel-item:first-child::after {align-self: flex-end;width: 50%;}#sk-container-id-4 div.sk-parallel-item:last-child::after {align-self: flex-start;width: 50%;}#sk-container-id-4 div.sk-parallel-item:only-child::after {width: 0;}#sk-container-id-4 div.sk-dashed-wrapped {border: 1px dashed gray;margin: 0 0.4em 0.5em 0.4em;box-sizing: border-box;padding-bottom: 0.4em;background-color: white;}#sk-container-id-4 div.sk-label label {font-family: monospace;font-weight: bold;display: inline-block;line-height: 1.2em;}#sk-container-id-4 div.sk-label-container {text-align: center;}#sk-container-id-4 div.sk-container {/* jupyter's `normalize.less` sets `[hidden] { display: none; }` but bootstrap.min.css set `[hidden] { display: none !important; }` so we also need the `!important` here to be able to override the default hidden behavior on the sphinx rendered scikit-learn.org. See: https://github.com/scikit-learn/scikit-learn/issues/21755 */display: inline-block !important;position: relative;}#sk-container-id-4 div.sk-text-repr-fallback {display: none;}</style><div id=\"sk-container-id-4\" class=\"sk-top-container\"><div class=\"sk-text-repr-fallback\"><pre>RandomizedSearchCV(estimator=RandomForestClassifier(random_state=42), n_jobs=-1,\n",
       "                   param_distributions={&#x27;bootstrap&#x27;: [True, False],\n",
       "                                        &#x27;max_depth&#x27;: [10, 20, 30, 40, 50, 60],\n",
       "                                        &#x27;max_features&#x27;: [&#x27;auto&#x27;, &#x27;sqrt&#x27;],\n",
       "                                        &#x27;min_samples_leaf&#x27;: [1, 2, 4],\n",
       "                                        &#x27;min_samples_split&#x27;: [2, 5, 10, 15],\n",
       "                                        &#x27;n_estimators&#x27;: [200, 400, 500, 600,\n",
       "                                                         800, 1000, 1200, 1400,\n",
       "                                                         1600, 1800, 2000]},\n",
       "                   random_state=42)</pre><b>In a Jupyter environment, please rerun this cell to show the HTML representation or trust the notebook. <br />On GitHub, the HTML representation is unable to render, please try loading this page with nbviewer.org.</b></div><div class=\"sk-container\" hidden><div class=\"sk-item sk-dashed-wrapped\"><div class=\"sk-label-container\"><div class=\"sk-label sk-toggleable\"><input class=\"sk-toggleable__control sk-hidden--visually\" id=\"sk-estimator-id-10\" type=\"checkbox\" ><label for=\"sk-estimator-id-10\" class=\"sk-toggleable__label sk-toggleable__label-arrow\">RandomizedSearchCV</label><div class=\"sk-toggleable__content\"><pre>RandomizedSearchCV(estimator=RandomForestClassifier(random_state=42), n_jobs=-1,\n",
       "                   param_distributions={&#x27;bootstrap&#x27;: [True, False],\n",
       "                                        &#x27;max_depth&#x27;: [10, 20, 30, 40, 50, 60],\n",
       "                                        &#x27;max_features&#x27;: [&#x27;auto&#x27;, &#x27;sqrt&#x27;],\n",
       "                                        &#x27;min_samples_leaf&#x27;: [1, 2, 4],\n",
       "                                        &#x27;min_samples_split&#x27;: [2, 5, 10, 15],\n",
       "                                        &#x27;n_estimators&#x27;: [200, 400, 500, 600,\n",
       "                                                         800, 1000, 1200, 1400,\n",
       "                                                         1600, 1800, 2000]},\n",
       "                   random_state=42)</pre></div></div></div><div class=\"sk-parallel\"><div class=\"sk-parallel-item\"><div class=\"sk-item\"><div class=\"sk-label-container\"><div class=\"sk-label sk-toggleable\"><input class=\"sk-toggleable__control sk-hidden--visually\" id=\"sk-estimator-id-11\" type=\"checkbox\" ><label for=\"sk-estimator-id-11\" class=\"sk-toggleable__label sk-toggleable__label-arrow\">estimator: RandomForestClassifier</label><div class=\"sk-toggleable__content\"><pre>RandomForestClassifier(random_state=42)</pre></div></div></div><div class=\"sk-serial\"><div class=\"sk-item\"><div class=\"sk-estimator sk-toggleable\"><input class=\"sk-toggleable__control sk-hidden--visually\" id=\"sk-estimator-id-12\" type=\"checkbox\" ><label for=\"sk-estimator-id-12\" class=\"sk-toggleable__label sk-toggleable__label-arrow\">RandomForestClassifier</label><div class=\"sk-toggleable__content\"><pre>RandomForestClassifier(random_state=42)</pre></div></div></div></div></div></div></div></div></div></div>"
      ],
      "text/plain": [
       "RandomizedSearchCV(estimator=RandomForestClassifier(random_state=42), n_jobs=-1,\n",
       "                   param_distributions={'bootstrap': [True, False],\n",
       "                                        'max_depth': [10, 20, 30, 40, 50, 60],\n",
       "                                        'max_features': ['auto', 'sqrt'],\n",
       "                                        'min_samples_leaf': [1, 2, 4],\n",
       "                                        'min_samples_split': [2, 5, 10, 15],\n",
       "                                        'n_estimators': [200, 400, 500, 600,\n",
       "                                                         800, 1000, 1200, 1400,\n",
       "                                                         1600, 1800, 2000]},\n",
       "                   random_state=42)"
      ]
     },
     "execution_count": 125,
     "metadata": {},
     "output_type": "execute_result"
    }
   ],
   "source": [
    "rfc1=r_cfl=RandomForestClassifier(random_state=42)\n",
    "params1={'bootstrap': [True, False],\n",
    " 'max_depth': [10, 20, 30, 40, 50, 60],\n",
    " 'max_features': ['auto', 'sqrt'],\n",
    " 'min_samples_leaf': [1, 2, 4],\n",
    " 'min_samples_split': [2, 5, 10,15],\n",
    " 'n_estimators': [200, 400, 500, 600, 800, 1000, 1200, 1400, 1600, 1800, 2000]}\n",
    "random_rfc1=RandomizedSearchCV(rfc1,param_distributions=params1,n_jobs=-1,random_state=42)\n",
    "random_rfc1.fit(result_kbest_20d,y2_enco)"
   ]
  },
  {
   "cell_type": "code",
   "execution_count": 126,
   "id": "a76b8510-caca-40ba-b037-b50e65f2e7a9",
   "metadata": {},
   "outputs": [
    {
     "name": "stdout",
     "output_type": "stream",
     "text": [
      "RandomForestClassifier(max_depth=50, max_features='sqrt', min_samples_leaf=2,\n",
      "                       n_estimators=1200, random_state=42)\n"
     ]
    }
   ],
   "source": [
    "print(random_rfc1.best_estimator_)"
   ]
  },
  {
   "cell_type": "code",
   "execution_count": 127,
   "id": "ca444aee-4f36-435a-915c-300de083ed38",
   "metadata": {},
   "outputs": [
    {
     "name": "stdout",
     "output_type": "stream",
     "text": [
      "0.6010767858670928\n"
     ]
    }
   ],
   "source": [
    "print(random_rfc1.best_score_)"
   ]
  },
  {
   "cell_type": "code",
   "execution_count": 128,
   "id": "18de27b1-d90e-48cb-8510-ddadfc18bd3e",
   "metadata": {},
   "outputs": [
    {
     "name": "stdout",
     "output_type": "stream",
     "text": [
      "The train f1_macro is: 0.8861074137353722\n",
      "The cross validation f1_macro is: 0.10520194552066894\n"
     ]
    }
   ],
   "source": [
    "rfc1= RandomForestClassifier(n_estimators=500,max_depth=30,min_samples_leaf=2,min_samples_split=5,bootstrap=False,random_state=42)\n",
    "rfc1.fit(result_kbest_20d,y2_enco)\n",
    "cal_clf = CalibratedClassifierCV(rfc1, method=\"sigmoid\")\n",
    "cal_clf.fit(result_kbest_20d,y2_enco)\n",
    "predict_y =cal_clf .predict(result_kbest_20d)\n",
    "print ('The train f1_macro is:',f1_score(y2_enco, predict_y,average='macro'))\n",
    "predict_y = cal_clf.predict(result_kbest_vald)\n",
    "print('The cross validation f1_macro is:',f1_score(y2_en_val, predict_y,average='macro'))"
   ]
  },
  {
   "cell_type": "code",
   "execution_count": 131,
   "id": "8b96e46a-1e0f-41d6-aa38-8b290661ebc6",
   "metadata": {},
   "outputs": [
    {
     "name": "stdout",
     "output_type": "stream",
     "text": [
      "Defaulting to user installation because normal site-packages is not writeable\n",
      "Collecting prettytable\n",
      "  Downloading prettytable-3.6.0-py3-none-any.whl (27 kB)\n",
      "Requirement already satisfied: wcwidth in /glob/development-tools/versions/oneapi/2023.0.1/oneapi/intelpython/python3.9/lib/python3.9/site-packages (from prettytable) (0.2.6)\n",
      "Installing collected packages: prettytable\n",
      "Successfully installed prettytable-3.6.0\n"
     ]
    }
   ],
   "source": [
    "!pip install prettytable"
   ]
  },
  {
   "cell_type": "code",
   "execution_count": 132,
   "id": "849035e6-cd96-4ea8-b162-70b99ee7bb80",
   "metadata": {},
   "outputs": [],
   "source": [
    "from prettytable import PrettyTable"
   ]
  },
  {
   "cell_type": "code",
   "execution_count": 133,
   "id": "fc2099cf-e919-45f7-afcf-ff9e58890fdc",
   "metadata": {},
   "outputs": [],
   "source": [
    "Pred_gene = PrettyTable([\"Model\", \"Average_F1_Score\"])\n",
    "Pred_gene.add_row(['KNN','28.50'])\n",
    "Pred_gene.add_row(['Logistic_Regression','25.80'])\n",
    "Pred_gene.add_row(['Decision_Tree','32.69'])\n",
    "Pred_gene.add_row(['RFC','31.49'])"
   ]
  },
  {
   "cell_type": "code",
   "execution_count": 134,
   "id": "9d34fbe7-f778-4574-88b6-401c363a19c4",
   "metadata": {},
   "outputs": [
    {
     "name": "stdout",
     "output_type": "stream",
     "text": [
      "+---------------------+------------------+\n",
      "|        Model        | Average_F1_Score |\n",
      "+---------------------+------------------+\n",
      "|         KNN         |      28.50       |\n",
      "| Logistic_Regression |      25.80       |\n",
      "|    Decision_Tree    |      32.69       |\n",
      "|         RFC         |      31.49       |\n",
      "+---------------------+------------------+\n"
     ]
    }
   ],
   "source": [
    "print(Pred_gene)"
   ]
  },
  {
   "cell_type": "code",
   "execution_count": 135,
   "id": "4ec3a4da-554c-4ecc-aab9-7f17141ee5a1",
   "metadata": {},
   "outputs": [
    {
     "name": "stdout",
     "output_type": "stream",
     "text": [
      "The train f1_macro is: 0.6974982730373046\n"
     ]
    }
   ],
   "source": [
    "DT = DecisionTreeClassifier(max_depth=20,min_samples_leaf=50,random_state=42)\n",
    "DT.fit(result_kbest_20,y1_enco)\n",
    "cal_clf = CalibratedClassifierCV(DT, method=\"sigmoid\")\n",
    "cal_clf.fit(result_kbest_20,y1_enco)\n",
    "predict_y =cal_clf .predict(result_kbest_20)\n",
    "print ('The train f1_macro is:',f1_score(y1_enco, predict_y,average='macro'))\n",
    "predict_y = cal_clf.predict(result_kbest_test20)"
   ]
  },
  {
   "cell_type": "code",
   "execution_count": 136,
   "id": "4453dbad-0f95-4394-87d6-ab45aae6454c",
   "metadata": {},
   "outputs": [],
   "source": [
    "Genetic_disorder=lab_enc1.inverse_transform(predict_y)"
   ]
  },
  {
   "cell_type": "code",
   "execution_count": 137,
   "id": "9a35bb42-955d-47c9-8b02-c76aab3cca80",
   "metadata": {},
   "outputs": [
    {
     "name": "stdout",
     "output_type": "stream",
     "text": [
      "The train f1_macro is: 0.6027866767314486\n"
     ]
    }
   ],
   "source": [
    "DT = DecisionTreeClassifier(max_depth=20,min_samples_leaf=10,random_state=42)\n",
    "DT.fit(result_kbest_20d,y2_enco)\n",
    "cal_clf = CalibratedClassifierCV(DT, method=\"sigmoid\")\n",
    "cal_clf.fit(result_kbest_20d,y2_enco)\n",
    "predict_y =cal_clf .predict(result_kbest_20d)\n",
    "print ('The train f1_macro is:',f1_score(y2_enco, predict_y,average='macro'))\n",
    "predict_yd = cal_clf.predict(result_kbest_test20)"
   ]
  },
  {
   "cell_type": "code",
   "execution_count": 138,
   "id": "fb7bc394-bb37-48af-ae56-bb4b5e6b229f",
   "metadata": {},
   "outputs": [],
   "source": [
    "Disorder_Subclass=lab_enc2.inverse_transform(predict_yd)"
   ]
  },
  {
   "cell_type": "code",
   "execution_count": 139,
   "id": "8450be45-bce2-4fdf-9d08-2eb5b09be9af",
   "metadata": {},
   "outputs": [],
   "source": [
    "data_fea_test1=data_test[data_test.isnull().all(1)!=True]"
   ]
  },
  {
   "cell_type": "code",
   "execution_count": 140,
   "id": "6da5cb78-e10d-4e3a-976f-ebadc3f9f167",
   "metadata": {},
   "outputs": [],
   "source": [
    "ids=data_fea_test1['Patient Id']\n",
    "output=pd.DataFrame({'Patient Id': ids,'Genetic_Disorder':Genetic_disorder,'Disorder_Subclass':Disorder_Subclass})\n",
    "output.to_csv('submission.csv',index=False)"
   ]
  },
  {
   "cell_type": "code",
   "execution_count": null,
   "id": "e791fa06-b7ad-42d2-93d5-a401c6bf4638",
   "metadata": {},
   "outputs": [],
   "source": []
  }
 ],
 "metadata": {
  "kernelspec": {
   "display_name": "Python 3 (Intel® oneAPI 2023.0)",
   "language": "python",
   "name": "c009-intel_distribution_of_python_3_oneapi-beta05-python"
  },
  "language_info": {
   "codemirror_mode": {
    "name": "ipython",
    "version": 3
   },
   "file_extension": ".py",
   "mimetype": "text/x-python",
   "name": "python",
   "nbconvert_exporter": "python",
   "pygments_lexer": "ipython3",
   "version": "3.9.15"
  }
 },
 "nbformat": 4,
 "nbformat_minor": 5
}
